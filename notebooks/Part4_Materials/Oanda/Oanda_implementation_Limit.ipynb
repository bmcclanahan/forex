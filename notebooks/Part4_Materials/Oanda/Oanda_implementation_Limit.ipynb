{
 "cells": [
  {
   "cell_type": "markdown",
   "metadata": {},
   "source": [
    "# Real-time Implementation and Automation with Oanda "
   ]
  },
  {
   "cell_type": "markdown",
   "metadata": {},
   "source": [
    "--------------------------------------------------------------------------------------------------------------------"
   ]
  },
  {
   "cell_type": "markdown",
   "metadata": {},
   "source": [
    "_Disclaimer: <br>\n",
    "The following illustrative examples are for general information and educational purposes only. <br>\n",
    "It is neither investment advice nor a recommendation to trade, invest or take whatsoever actions.<br>\n",
    "The below code should only be used in combination with an Oanda Practice/Demo Account and NOT with a Live Trading Account._"
   ]
  },
  {
   "cell_type": "markdown",
   "metadata": {},
   "source": [
    "------------------------------------------------------------------------------------"
   ]
  },
  {
   "cell_type": "markdown",
   "metadata": {},
   "source": [
    "## Recap: Historical Data, real-time Data and Orders"
   ]
  },
  {
   "cell_type": "code",
   "execution_count": null,
   "metadata": {},
   "outputs": [],
   "source": [
    "import pandas as pd\n",
    "import tpqoa"
   ]
  },
  {
   "cell_type": "code",
   "execution_count": null,
   "metadata": {},
   "outputs": [],
   "source": [
    "configfile = \"../../../oanda.cfg\""
   ]
  },
  {
   "cell_type": "code",
   "execution_count": null,
   "metadata": {},
   "outputs": [],
   "source": [
    "api = tpqoa.tpqoa(configfile)"
   ]
  },
  {
   "cell_type": "markdown",
   "metadata": {},
   "source": [
    "__Historical Data__"
   ]
  },
  {
   "cell_type": "code",
   "execution_count": null,
   "metadata": {},
   "outputs": [],
   "source": [
    "from datetime import datetime"
   ]
  },
  {
   "cell_type": "code",
   "execution_count": null,
   "metadata": {},
   "outputs": [],
   "source": [
    "import pandas_ta as ta"
   ]
  },
  {
   "cell_type": "code",
   "execution_count": null,
   "metadata": {},
   "outputs": [],
   "source": [
    "df = api.get_history(instrument = \"GBP_JPY\", start = \"2023-12-29\", end = datetime.now().strftime('%Y-%m-%d'),\n",
    "                granularity = \"M1\", price = \"M\", localize = False)\n"
   ]
  },
  {
   "cell_type": "code",
   "execution_count": null,
   "metadata": {},
   "outputs": [],
   "source": [
    "df.o.rolling(20).max()"
   ]
  },
  {
   "cell_type": "code",
   "execution_count": null,
   "metadata": {},
   "outputs": [],
   "source": [
    "df = df.rename({\"o\": \"open\", \"h\": \"high\", \"l\": \"low\", \"c\": \"close\"}, axis=1)"
   ]
  },
  {
   "cell_type": "code",
   "execution_count": null,
   "metadata": {},
   "outputs": [],
   "source": [
    "df = df.assign(rsi=df.ta.rsi(14))"
   ]
  },
  {
   "cell_type": "code",
   "execution_count": null,
   "metadata": {},
   "outputs": [],
   "source": [
    "df = df.assign(rsi=df.ta.rsi(14))\n",
    "df = df.assign(rsi_ma=df.ta.sma(length=14, close=df.rsi))"
   ]
  },
  {
   "cell_type": "code",
   "execution_count": null,
   "metadata": {},
   "outputs": [],
   "source": [
    "import plotly.graph_objects as go"
   ]
  },
  {
   "cell_type": "code",
   "execution_count": null,
   "metadata": {},
   "outputs": [],
   "source": [
    "fig = go.Figure()\n",
    "\n",
    "fig.add_trace(\n",
    "    go.Scattergl(\n",
    "        x=df.index, y=df.rsi, mode=\"lines\", marker=dict(color=\"red\")\n",
    "    )\n",
    ")\n",
    "fig.add_trace(\n",
    "    go.Scattergl(\n",
    "        x=df.index, y=df.rsi_ma, mode=\"lines\", marker=dict(color=\"blue\")\n",
    "    )\n",
    ")\n",
    "fig.add_trace(\n",
    "    go.Scattergl(\n",
    "        x=df.index[df.positions == -1], y=df.loc[df.positions == -1, \"rsi_ma\"], mode=\"markers\", marker=dict(color=\"green\")\n",
    "    )\n",
    ")\n",
    "fig       "
   ]
  },
  {
   "cell_type": "code",
   "execution_count": null,
   "metadata": {},
   "outputs": [],
   "source": [
    "from datetime import datetime\n",
    "import datetime as dt\n",
    "\n",
    "mask = (datetime(2024, 1, 1, 23, 13, tzinfo=dt.timezone.utc) > df.index) & (df.index > datetime(2024, 1, 1, 23, 9, tzinfo=dt.timezone.utc))"
   ]
  },
  {
   "cell_type": "code",
   "execution_count": null,
   "metadata": {},
   "outputs": [],
   "source": [
    "df.loc[mask]"
   ]
  },
  {
   "cell_type": "code",
   "execution_count": null,
   "metadata": {},
   "outputs": [],
   "source": [
    "datetime(2024, 1, 1, 23, 11, tzinfo=dt.timezone.utc) > df.index"
   ]
  },
  {
   "cell_type": "markdown",
   "metadata": {},
   "source": [
    "## Preview: A Trader Class live in action"
   ]
  },
  {
   "cell_type": "code",
   "execution_count": null,
   "metadata": {},
   "outputs": [],
   "source": [
    "configfile = \"../../../oanda-live.cfg\""
   ]
  },
  {
   "cell_type": "code",
   "execution_count": null,
   "metadata": {},
   "outputs": [],
   "source": [
    "configfile = \"../../../oanda.cfg\""
   ]
  },
  {
   "cell_type": "code",
   "execution_count": null,
   "metadata": {},
   "outputs": [],
   "source": [
    "import pandas as pd\n",
    "import numpy as np\n",
    "import tpqoa\n",
    "from datetime import datetime, timedelta\n",
    "import time\n",
    "import pandas_ta as ta"
   ]
  },
  {
   "cell_type": "code",
   "execution_count": null,
   "metadata": {},
   "outputs": [],
   "source": [
    "import numpy as np\n",
    "\n",
    "def retracement_positions(\n",
    "    df,\n",
    "    adx_short_period=14,\n",
    "    adx_long_period=200,\n",
    "    adx_short_threshold=20,\n",
    "    atr_period=14,\n",
    "    retrace_period=90,\n",
    "    retrace_threshold=0.4,\n",
    "    dm_diff_thresh=0\n",
    "):\n",
    "    highest = df.high.rolling(retrace_period, min_periods=1).max()\n",
    "    lowest = df.low.rolling(retrace_period, min_periods=1).min()\n",
    "    adx = df.ta.adx(length=adx_long_period)\n",
    "    df = df.assign(\n",
    "        adx_short=df.ta.adx(length=adx_short_period).iloc[:, 0],\n",
    "        adx_long=adx.iloc[:, 0],\n",
    "        atr=df.ta.atr(length=atr_period),\n",
    "        dm_diff=adx.iloc[:, -2] - adx.iloc[:, -1],\n",
    "        highest=highest,\n",
    "        lowest=lowest,\n",
    "        highest_index=None,\n",
    "        lowest_index=None\n",
    "    )\n",
    "    filter = highest == df.high\n",
    "    df.loc[filter, \"highest_index\"] = df.index[filter]\n",
    "    filter = lowest == df.low\n",
    "    df.loc[filter, \"lowest_index\"] = df.index[filter]\n",
    "    # df.loc[:, \"highest_index\"] = df.highest_index.fillna(method=\"ffill\")\n",
    "    # df.loc[:, \"lowest_index\"] = df.lowest_index.fillna(method=\"ffill\")\n",
    "\n",
    "    # mod_highest_index = df.highest_index.fillna(method=\"bfill\")\n",
    "    # mod_lowest_index = df.lowest_index.fillna(method=\"bfill\")\n",
    "    df.loc[:, \"highest_index\"] = df.highest_index.ffill()\n",
    "    df.loc[:, \"lowest_index\"] = df.lowest_index.ffill()\n",
    "\n",
    "    mod_highest_index = df.highest_index.bfill()\n",
    "    mod_lowest_index = df.lowest_index.bfill()\n",
    "    df.loc[:, \"was_new_high\"] = (df.loc[mod_highest_index].high.values == df.highest.values) & df.highest_index.notna()\n",
    "    df.loc[:, \"was_new_low\"] = (df.loc[mod_lowest_index].low.values == df.lowest.values) & df.lowest_index.notna()\n",
    "    not_na = df.highest_index.notna() & df.lowest_index.notna()\n",
    "    df.loc[:, \"adx_was_high\"] = (df.loc[mod_highest_index].adx_short.values > adx_short_threshold) & (df.loc[mod_lowest_index].adx_short.values > adx_short_threshold) & not_na\n",
    "    df.loc[:, \"sto\"] = (df.close - df.lowest) / (df.highest - df.lowest)\n",
    "    df.loc[:, \"last_sto\"] = df.sto.shift()\n",
    "\n",
    "    crossover = (df.last_sto < retrace_threshold) & (df.sto > retrace_threshold)\n",
    "    crossunder = (df.last_sto > retrace_threshold) & (df.sto < retrace_threshold)\n",
    "    new_high_and_low = df.was_new_high & df.was_new_low\n",
    "    df = df.assign(\n",
    "        short_entry=(df.highest_index < df.lowest_index) & crossover & new_high_and_low & df.adx_was_high,\n",
    "        long_entry=(df.lowest_index < df.highest_index) & crossunder & new_high_and_low & df.adx_was_high\n",
    "    )\n",
    "    direction_down = df.dm_diff < dm_diff_thresh\n",
    "    df =  df.assign(\n",
    "        short_entry1=df.short_entry & direction_down,\n",
    "        short_entry2=df.long_entry & direction_down\n",
    "    )\n",
    "    df = df.assign(\n",
    "        position=0\n",
    "    )\n",
    "    df.loc[df.short_entry1 | df.short_entry2, \"position\"] = -1\n",
    "    df = df.assign(\n",
    "        limit=df.lowest,\n",
    "        stop=df.highest\n",
    "    )\n",
    "    return df\n",
    "\n",
    "\n",
    "def retracement_trade_report(time, df):\n",
    "    last_row = df.iloc[-1]\n",
    "    print(\"{} | sto = {} | highest = {} | lowest = {} | fake long entry = {} | close = {}\".format(time, last_row.sto, last_row.highest, last_row.lowest, last_row.long_entry, last_row.close))"
   ]
  },
  {
   "cell_type": "raw",
   "metadata": {},
   "source": [
    "output_df = retracement_positions(df)"
   ]
  },
  {
   "cell_type": "raw",
   "metadata": {},
   "source": [
    "output_df.loc[output_df.position == -1, [\"last_sto\", \"sto\", \"close\", \"lowest\", \"highest\", \"lowest_index\", \"highest_index\", \"short_entry1\", \"short_entry2\"]]"
   ]
  },
  {
   "cell_type": "code",
   "execution_count": null,
   "metadata": {},
   "outputs": [],
   "source": [
    "import pytz\n",
    "\n",
    "class Trader(tpqoa.tpqoa):\n",
    "    def __init__(self, conf_file, instrument, bar_length, window, units,\n",
    "                 stop_loss=50, indicators=[\n",
    "                     \"close\", \"sto\", \"last_sto\", \"adx_short\", \"dm_diff\", \"position\", \"highest\", \"lowest\",\n",
    "                     \"was_new_high\", \"was_new_low\", \"adx_was_high\"\n",
    "                 ],\n",
    "                 trade_reporter=retracement_trade_report, strategy=retracement_positions,\n",
    "                 use_account_position=True,\n",
    "                 **strategy_kwargs):\n",
    "        super().__init__(conf_file)\n",
    "        self.instrument = instrument\n",
    "        self.bar_length = pd.to_timedelta(bar_length)\n",
    "        self.tick_data = pd.DataFrame()\n",
    "        self.raw_data = None\n",
    "        self.data = None \n",
    "        self.last_bar = None\n",
    "        self.units = units\n",
    "        self.position = 0\n",
    "        self.profits = []\n",
    "        self.strategy = strategy\n",
    "        self.indicators = indicators\n",
    "        self.trade_reporter = trade_reporter\n",
    "        self.use_account_position = use_account_position\n",
    "        self.strategy_kwargs = strategy_kwargs\n",
    "        self.stop_loss = stop_loss\n",
    "        self.account_position = None\n",
    "        self.start_time = pd.Timestamp(datetime.utcnow(), tz=pytz.timezone(\"UTC\"))\n",
    "        \n",
    "        #*****************add strategy-specific attributes here******************\n",
    "        self.window = window\n",
    "        #************************************************************************\n",
    "        self.set_positions()\n",
    "    \n",
    "    def get_most_recent(self, days = 5, columns=[\"open\", \"high\", \"low\", \"close\"]):\n",
    "        while True:\n",
    "            time.sleep(2)\n",
    "            now = datetime.utcnow()\n",
    "            now = now - timedelta(microseconds = now.microsecond)\n",
    "            past = now - timedelta(days = days)\n",
    "            df = self.get_history(instrument = self.instrument, start = past, end = now,\n",
    "                                   granularity = \"S5\", price = \"M\", localize = False).dropna(subset=\"c\")\n",
    "            df.rename(columns = {\"c\": \"close\", \"o\": \"open\", \"h\": \"high\", \"l\": \"low\"}, inplace = True)\n",
    "            df = df.assign(**{self.instrument: df.close})[columns + [self.instrument]]\n",
    "            df = df.resample(self.bar_length, label = \"right\").last().dropna().iloc[:-1]\n",
    "            self.raw_data = df.copy()\n",
    "            self.last_bar = self.raw_data.index[-1]\n",
    "            if pd.to_datetime(datetime.utcnow()).tz_localize(\"UTC\") - self.last_bar < self.bar_length:\n",
    "                break\n",
    "                \n",
    "    def on_success(self, time, bid, ask):\n",
    "        #print(self.ticks, end = \" \")\n",
    "        recent_tick = pd.to_datetime(time)\n",
    "        mid = (ask + bid)/2\n",
    "        df = pd.DataFrame(\n",
    "            {\n",
    "                self.instrument: mid,\n",
    "                \"open\": mid,\n",
    "                \"high\": mid,\n",
    "                \"low\": mid,\n",
    "                \"close\": mid\n",
    "            }, \n",
    "            index = [recent_tick]\n",
    "        )\n",
    "        self.tick_data = pd.concat([self.tick_data, df])\n",
    "        \n",
    "        if recent_tick - self.last_bar > self.bar_length:\n",
    "            self.resample_and_join()\n",
    "            self.define_strategy()\n",
    "            self.execute_trades()\n",
    "    \n",
    "    def resample_and_join(self):\n",
    "        self.raw_data = pd.concat([\n",
    "            self.raw_data, self.tick_data.resample(\n",
    "                self.bar_length, \n",
    "                label=\"right\"\n",
    "            ).agg(\n",
    "                {\n",
    "                    self.instrument: \"last\",\n",
    "                    \"open\": \"first\",\n",
    "                    \"high\": \"max\",\n",
    "                    \"low\": \"min\",\n",
    "                    \"close\": \"last\",\n",
    "                }\n",
    "            ).ffill().iloc[:-1]])\n",
    "        self.tick_data = self.tick_data.iloc[-1:]\n",
    "        self.last_bar = self.raw_data.index[-1]\n",
    "    \n",
    "    def define_strategy(self): # \"strategy-specific\"\n",
    "        df = self.raw_data.copy()\n",
    "        \n",
    "        #******************** define your strategy here ************************\n",
    "        df[\"returns\"] = np.log(df[self.instrument] / df[self.instrument].shift())\n",
    "        #df[\"position\"] = -np.sign(df.returns.rolling(self.window).mean())\n",
    "        df = self.strategy(df, **self.strategy_kwargs) # start_time=self.start_time,\n",
    "        #***********************************************************************\n",
    "        indicator_string = f\"{df.index[-1]} \"\n",
    "        for indicator in self.indicators:\n",
    "            val = df.iloc[-1][indicator] if indicator in df.columns else None\n",
    "            indicator_string += f\"{indicator}: {val} \"\n",
    "        indicator_string += f\"account position: {self.account_position}\"       \n",
    "        print(indicator_string, end='\\r')\n",
    "        \n",
    "        self.data = df.copy()\n",
    "\n",
    "\n",
    "    def set_positions(self):\n",
    "        account_summary = self.get_account_summary(detailed=True)\n",
    "        for position in account_summary[\"positions\"]:\n",
    "            if position[\"instrument\"] == self.instrument:\n",
    "                long_units = float(position[\"long\"][\"units\"])\n",
    "                short_units = float(position[\"short\"][\"units\"])\n",
    "                if long_units > 0:\n",
    "                    self.account_position = long_units\n",
    "                    if self.use_account_position:\n",
    "                        self.position = 1\n",
    "                elif short_units < 0:\n",
    "                    self.account_position = short_units\n",
    "                    if self.use_account_position:\n",
    "                        self.position = -1\n",
    "                else:\n",
    "                    self.account_position = 0\n",
    "                    if self.use_account_position:\n",
    "                        self.position = 0\n",
    "                break\n",
    "    \n",
    "    def execute_trades(self):\n",
    "        self.set_positions()\n",
    "        last_netrual = self.data[\"position\"].iloc[-2] == 0 \n",
    "        stop = self.data[\"stop\"].iloc[-1]\n",
    "        sl_distance = round(abs(self.data[\"close\"].iloc[-1] - stop), 2) if stop else 0\n",
    "        limit = round(self.data[\"limit\"].iloc[-1], 2) if self.data[\"limit\"].iloc[-1] else 0\n",
    "        if self.data[\"position\"].iloc[-1] == 1 and last_netrual and self.position == 0:\n",
    "            order = self.create_order(\n",
    "                self.instrument, self.units, suppress = True, ret = True,\n",
    "                sl_distance=f\"{sl_distance:.2f}\", tp_price=f\"{limit:.2f}\"\n",
    "            )\n",
    "            print(\"order is \", order)\n",
    "            self.report_trade(order, \"GOING LONG\")\n",
    "            self.position = 1\n",
    "        elif self.data[\"position\"].iloc[-1] == -1 and last_netrual and self.position == 0:\n",
    "            print(\"limit\", limit, \"sl_distance\", sl_distance)\n",
    "            order = self.create_order(\n",
    "                self.instrument, -self.units, suppress = True, ret = True,\n",
    "                sl_distance=f\"{sl_distance:.2f}\", tp_price=f\"{limit:.2f}\"\n",
    "            )\n",
    "            print(\"order is \", order)\n",
    "            self.report_trade(order, \"GOING SHORT\")\n",
    "            self.position = -1\n",
    "  \n",
    "    \n",
    "    def report_trade(self, order, going):\n",
    "        print(\"order\", order)\n",
    "        time = order[\"time\"]\n",
    "        units = order[\"units\"]\n",
    "        price = order[\"price\"]\n",
    "        pl = float(order[\"pl\"])\n",
    "        self.profits.append(pl)\n",
    "        cumpl = sum(self.profits)\n",
    "        print(\"\\n\" + 100* \"-\")\n",
    "        print(\"{} | {}\".format(time, going))\n",
    "        print(\"{} | units = {} | price = {} | P&L = {} | Cum P&L = {}\".format(time, units, price, pl, cumpl))\n",
    "        self.trade_reporter(time, self.data)\n",
    "        print(100 * \"-\" + \"\\n\")  \n",
    "    "
   ]
  },
  {
   "cell_type": "markdown",
   "metadata": {},
   "source": [
    "Simple Contrarian: Bar_lenght = 1min | Window = 1 (1 minute)"
   ]
  },
  {
   "cell_type": "markdown",
   "metadata": {},
   "source": [
    "short"
   ]
  },
  {
   "cell_type": "code",
   "execution_count": null,
   "metadata": {},
   "outputs": [],
   "source": [
    "trader = Trader(configfile, \"GBP_JPY\", bar_length = \"1min\", window = 1, units = 40000, retrace_threshold=0.4)"
   ]
  },
  {
   "cell_type": "code",
   "execution_count": null,
   "metadata": {},
   "outputs": [],
   "source": [
    "while True:\n",
    "    try:\n",
    "        trader.get_most_recent()\n",
    "        trader.stream_data(trader.instrument)#, stop = 200)\n",
    "        if trader.position != 0: # if we have a final open position\n",
    "            close_order = trader.create_order(trader.instrument, units = -trader.position * trader.units, \n",
    "                                              suppress = True, ret = True) \n",
    "            trader.report_trade(close_order, \"GOING NEUTRAL\")\n",
    "            trader.position = 0\n",
    "    except Exception as e:\n",
    "        print(\"Encountered error\")\n",
    "        print(str(e))\n",
    "        raise e\n",
    "        time.sleep(2)"
   ]
  },
  {
   "cell_type": "code",
   "execution_count": null,
   "metadata": {},
   "outputs": [],
   "source": [
    "trader.data.close.iloc[-50:]"
   ]
  },
  {
   "cell_type": "code",
   "execution_count": null,
   "metadata": {},
   "outputs": [],
   "source": [
    "trader.data.iloc[-2:]"
   ]
  },
  {
   "cell_type": "code",
   "execution_count": null,
   "metadata": {},
   "outputs": [],
   "source": [
    "184.811 + 0.07"
   ]
  },
  {
   "cell_type": "code",
   "execution_count": null,
   "metadata": {},
   "outputs": [],
   "source": []
  }
 ],
 "metadata": {
  "kernelspec": {
   "display_name": "Python 3 (ipykernel)",
   "language": "python",
   "name": "python3"
  },
  "language_info": {
   "codemirror_mode": {
    "name": "ipython",
    "version": 3
   },
   "file_extension": ".py",
   "mimetype": "text/x-python",
   "name": "python",
   "nbconvert_exporter": "python",
   "pygments_lexer": "ipython3",
   "version": "3.9.18"
  }
 },
 "nbformat": 4,
 "nbformat_minor": 4
}
