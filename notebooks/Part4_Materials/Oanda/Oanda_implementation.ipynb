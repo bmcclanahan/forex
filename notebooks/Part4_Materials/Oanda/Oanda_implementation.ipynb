{
 "cells": [
  {
   "cell_type": "markdown",
   "metadata": {},
   "source": [
    "# Real-time Implementation and Automation with Oanda "
   ]
  },
  {
   "cell_type": "markdown",
   "metadata": {},
   "source": [
    "--------------------------------------------------------------------------------------------------------------------"
   ]
  },
  {
   "cell_type": "markdown",
   "metadata": {},
   "source": [
    "_Disclaimer: <br>\n",
    "The following illustrative examples are for general information and educational purposes only. <br>\n",
    "It is neither investment advice nor a recommendation to trade, invest or take whatsoever actions.<br>\n",
    "The below code should only be used in combination with an Oanda Practice/Demo Account and NOT with a Live Trading Account._"
   ]
  },
  {
   "cell_type": "markdown",
   "metadata": {},
   "source": [
    "------------------------------------------------------------------------------------"
   ]
  },
  {
   "cell_type": "markdown",
   "metadata": {},
   "source": [
    "## Recap: Historical Data, real-time Data and Orders"
   ]
  },
  {
   "cell_type": "code",
   "execution_count": null,
   "metadata": {},
   "outputs": [],
   "source": [
    "import pandas as pd\n",
    "import tpqoa"
   ]
  },
  {
   "cell_type": "code",
   "execution_count": null,
   "metadata": {},
   "outputs": [],
   "source": [
    "configfile = \"../../../oanda-live.cfg\""
   ]
  },
  {
   "cell_type": "code",
   "execution_count": null,
   "metadata": {},
   "outputs": [],
   "source": [
    "api = tpqoa.tpqoa(configfile)"
   ]
  },
  {
   "cell_type": "markdown",
   "metadata": {},
   "source": [
    "__Historical Data__"
   ]
  },
  {
   "cell_type": "code",
   "execution_count": null,
   "metadata": {},
   "outputs": [],
   "source": [
    "from datetime import datetime"
   ]
  },
  {
   "cell_type": "code",
   "execution_count": null,
   "metadata": {},
   "outputs": [],
   "source": [
    "import pandas_ta as ta"
   ]
  },
  {
   "cell_type": "code",
   "execution_count": null,
   "metadata": {},
   "outputs": [],
   "source": [
    "df = api.get_history(instrument = \"GBP_USD\", start = \"2023-12-29\", end = datetime.now().strftime('%Y-%m-%d'),\n",
    "                granularity = \"M1\", price = \"M\", localize = False)\n"
   ]
  },
  {
   "cell_type": "code",
   "execution_count": null,
   "metadata": {},
   "outputs": [],
   "source": [
    "help(df.ta.dm)"
   ]
  },
  {
   "cell_type": "code",
   "execution_count": null,
   "metadata": {},
   "outputs": [],
   "source": [
    "df = df.rename({\"o\": \"open\", \"h\": \"high\", \"l\": \"low\", \"c\": \"close\"}, axis=1)"
   ]
  },
  {
   "cell_type": "code",
   "execution_count": null,
   "metadata": {},
   "outputs": [],
   "source": [
    "df = df.assign(rsi=df.ta.rsi(14))"
   ]
  },
  {
   "cell_type": "code",
   "execution_count": null,
   "metadata": {},
   "outputs": [],
   "source": [
    "df = df.assign(rsi=df.ta.rsi(14))\n",
    "df = df.assign(rsi_ma=df.ta.sma(length=14, close=df.rsi))"
   ]
  },
  {
   "cell_type": "code",
   "execution_count": null,
   "metadata": {},
   "outputs": [],
   "source": [
    "import plotly.graph_objects as go"
   ]
  },
  {
   "cell_type": "code",
   "execution_count": null,
   "metadata": {},
   "outputs": [],
   "source": [
    "fig = go.Figure()\n",
    "\n",
    "fig.add_trace(\n",
    "    go.Scattergl(\n",
    "        x=df.index, y=df.rsi, mode=\"lines\", marker=dict(color=\"red\")\n",
    "    )\n",
    ")\n",
    "fig.add_trace(\n",
    "    go.Scattergl(\n",
    "        x=df.index, y=df.rsi_ma, mode=\"lines\", marker=dict(color=\"blue\")\n",
    "    )\n",
    ")\n",
    "fig.add_trace(\n",
    "    go.Scattergl(\n",
    "        x=df.index[df.positions == -1], y=df.loc[df.positions == -1, \"rsi_ma\"], mode=\"markers\", marker=dict(color=\"green\")\n",
    "    )\n",
    ")\n",
    "fig       "
   ]
  },
  {
   "cell_type": "code",
   "execution_count": null,
   "metadata": {},
   "outputs": [],
   "source": [
    "from datetime import datetime\n",
    "import datetime as dt\n",
    "\n",
    "mask = (datetime(2024, 1, 1, 23, 13, tzinfo=dt.timezone.utc) > df.index) & (df.index > datetime(2024, 1, 1, 23, 9, tzinfo=dt.timezone.utc))"
   ]
  },
  {
   "cell_type": "code",
   "execution_count": null,
   "metadata": {},
   "outputs": [],
   "source": [
    "df.loc[mask]"
   ]
  },
  {
   "cell_type": "code",
   "execution_count": null,
   "metadata": {},
   "outputs": [],
   "source": [
    "datetime(2024, 1, 1, 23, 11, tzinfo=dt.timezone.utc) > df.index"
   ]
  },
  {
   "cell_type": "markdown",
   "metadata": {},
   "source": [
    "## Preview: A Trader Class live in action"
   ]
  },
  {
   "cell_type": "code",
   "execution_count": 1,
   "metadata": {},
   "outputs": [],
   "source": [
    "configfile = \"../../../oanda-live.cfg\""
   ]
  },
  {
   "cell_type": "code",
   "execution_count": null,
   "metadata": {},
   "outputs": [],
   "source": [
    "configfile = \"../../../oanda.cfg\""
   ]
  },
  {
   "cell_type": "code",
   "execution_count": 2,
   "metadata": {},
   "outputs": [],
   "source": [
    "import pandas as pd\n",
    "import numpy as np\n",
    "import tpqoa\n",
    "from datetime import datetime, timedelta\n",
    "import time\n",
    "import pandas_ta as ta"
   ]
  },
  {
   "cell_type": "code",
   "execution_count": 3,
   "metadata": {},
   "outputs": [],
   "source": [
    "import numpy as np\n",
    "\n",
    "def rsi_positions(\n",
    "    df, instrument, rsi_high_thresh=50, rsi_low_thresh=30, adx_length=200, dm_diff_thresh=0,\n",
    "    atr_period=14, atr_stop_multiplier=12, use_session=True\n",
    "):\n",
    "    if use_session:\n",
    "        start_time = 12 * 60 + 30\n",
    "        end_time = 21 * 60\n",
    "        translated_time = (df.index.hour * 60 + df.index.minute)\n",
    "        in_session = (translated_time > start_time) & (translated_time < end_time)\n",
    "    else:\n",
    "        in_session = True\n",
    "        translated_time=None\n",
    "    #df = df.rename({instrument: \"close\"}, axis=1)#,\"o\": \"open\", \"h\": \"high\", \"l\": \"low\", \"c\": \"close\"}, axis=1)\n",
    "    df = df.assign(\n",
    "        rsi=df.ta.rsi(14),\n",
    "        atr=df.ta.atr(atr_period),\n",
    "        position=None,\n",
    "        in_session=in_session,\n",
    "        translated_time=translated_time\n",
    "    )\n",
    "    df = df.assign(\n",
    "        stop=df.atr * atr_stop_multiplier,\n",
    "    )\n",
    "    df = df.assign(rsi_ma=df.ta.sma(length=14, close=df.rsi))\n",
    "    df = df.assign(last_rsi=df.rsi.shift())\n",
    "    adx = df.ta.adx(length=adx_length)\n",
    "    df = df.assign(dm_diff=adx.iloc[:, -2] - adx.iloc[:, -1])\n",
    "\n",
    "    entries = (df.last_rsi > df.rsi_ma) & (df.rsi < df.rsi_ma) & (df.rsi > rsi_high_thresh) & (df.dm_diff < dm_diff_thresh) & df.in_session\n",
    "    df.loc[entries, \"position\"] = -1\n",
    "    df.loc[df.rsi < rsi_low_thresh, \"position\"] = 0\n",
    "    df = df.assign(position=df.position.ffill())\n",
    "    df = df.assign(position=df.position.fillna(0))\n",
    "    df = df.assign(last_position=df.position.shift())\n",
    "    return df\n",
    "\n",
    "def rsi_positions_long(\n",
    "    df, instrument, rsi_high_thresh=65, rsi_low_thresh=45, adx_length=200, dm_diff_thresh=0,\n",
    "    atr_period=14, atr_stop_multiplier=12\n",
    "):\n",
    "    #df = df.rename({instrument: \"close\"}, axis=1)#,\"o\": \"open\", \"h\": \"high\", \"l\": \"low\", \"c\": \"close\"}, axis=1)\n",
    "    df = df.assign(\n",
    "        rsi=df.ta.rsi(14),\n",
    "        atr=df.ta.atr(atr_period),\n",
    "        position=None\n",
    "    )\n",
    "    df = df.assign(\n",
    "        stop=df.atr * atr_stop_multiplier,\n",
    "    )\n",
    "    df = df.assign(rsi_ma=df.ta.sma(length=14, close=df.rsi))\n",
    "    df = df.assign(last_rsi=df.rsi.shift())\n",
    "    adx = df.ta.adx(length=adx_length)\n",
    "    df = df.assign(dm_diff=adx.iloc[:, -2] - adx.iloc[:, -1])\n",
    "\n",
    "    entries = (df.last_rsi < df.rsi_ma) & (df.rsi > df.rsi_ma) & (df.rsi < rsi_low_thresh) & (df.dm_diff > dm_diff_thresh)\n",
    "    df.loc[entries, \"position\"] = 1\n",
    "    df.loc[df.rsi > rsi_high_thresh, \"position\"] = 0\n",
    "    df = df.assign(position=df.position.ffill())\n",
    "    df = df.assign(position=df.position.fillna(0))\n",
    "    df = df.assign(last_position=df.position.shift())\n",
    "    return df\n",
    "\n",
    "# work in progress\n",
    "def rsi_positions_long_short(\n",
    "    df, instrument,\n",
    "    rsi_high_thresh_short=55, rsi_low_thresh_short=35,\n",
    "    rsi_high_thresh_long=65, rsi_low_thresh_long=45,\n",
    "    adx_length=200, dm_diff_thresh=0,\n",
    "    atr_period=14, atr_stop_multiplier=12\n",
    "):\n",
    "    #df = df.rename({instrument: \"close\"}, axis=1)#,\"o\": \"open\", \"h\": \"high\", \"l\": \"low\", \"c\": \"close\"}, axis=1)\n",
    "    df = df.assign(\n",
    "        rsi=df.ta.rsi(14),\n",
    "        atr=df.ta.atr(atr_period),\n",
    "        position=None\n",
    "    )\n",
    "    df = df.assign(\n",
    "        stop=df.atr * atr_stop_multiplier,\n",
    "    )\n",
    "    df = df.assign(rsi_ma=df.ta.sma(length=14, close=df.rsi))\n",
    "    df = df.assign(last_rsi=df.rsi.shift())\n",
    "    adx = df.ta.adx(length=adx_length)\n",
    "    df = df.assign(dm_diff=adx.iloc[:, -2] - adx.iloc[:, -1])\n",
    "\n",
    "    entries = (df.last_rsi < df.rsi_ma) & (df.rsi > df.rsi_ma) & (df.rsi < rsi_low_thresh_long) & (df.dm_diff > dm_diff_thresh)\n",
    "    df.loc[entries, \"position\"] = 1\n",
    "    df.loc[df.rsi > rsi_high_thresh_long, \"position\"] = 0\n",
    "    entries = (df.last_rsi > df.rsi_ma) & (df.rsi < df.rsi_ma) & (df.rsi > rsi_high_thresh_short) & (df.dm_diff < dm_diff_thresh)\n",
    "    df.loc[entries, \"position\"] = -1\n",
    "    df.loc[df.rsi < rsi_low_thresh_short, \"position\"] = 0\n",
    "    df = df.assign(position=df.position.ffill())\n",
    "    df = df.assign(position=df.position.fillna(0))\n",
    "    df = df.assign(last_position=df.position.shift())\n",
    "    return df\n",
    "\n",
    "\n",
    "\n",
    "\n",
    "\n",
    "def rsi_trade_report(time, df):\n",
    "    last_row = df.iloc[-1]\n",
    "    print(\"{} | rsi = {} | prev rsi = {} | rsi ma = {}\".format(time, last_row.rsi, last_row.last_rsi, last_row.rsi_ma))"
   ]
  },
  {
   "cell_type": "code",
   "execution_count": 4,
   "metadata": {},
   "outputs": [],
   "source": [
    "import pytz\n",
    "\n",
    "class Trader(tpqoa.tpqoa):\n",
    "    def __init__(self, conf_file, instrument, bar_length, window, units,\n",
    "                 stop_loss=50, indicators=[\"rsi\", \"last_rsi\", \"rsi_ma\", \"dm_diff\", \"position\", \"last_position\", \"atr\", \"stop\", \"in_session\", \"translated_time\"],\n",
    "                 trade_reporter=rsi_trade_report, strategy=rsi_positions,\n",
    "                 use_account_position=True,\n",
    "                 spread_threshold=0.05,\n",
    "                 tick_decimals=3,\n",
    "                 **strategy_kwargs):\n",
    "        super().__init__(conf_file)\n",
    "        self.instrument = instrument\n",
    "        self.bar_length = pd.to_timedelta(bar_length)\n",
    "        self.tick_data = pd.DataFrame()\n",
    "        self.raw_data = None\n",
    "        self.data = None \n",
    "        self.last_bar = None\n",
    "        self.units = units\n",
    "        self.position = 0\n",
    "        self.profits = []\n",
    "        self.strategy = strategy\n",
    "        self.indicators = indicators\n",
    "        self.trade_reporter = trade_reporter\n",
    "        self.use_account_position = use_account_position\n",
    "        self.strategy_kwargs = strategy_kwargs\n",
    "        self.stop_loss = stop_loss\n",
    "        self.account_position = None\n",
    "        self.spread = None\n",
    "        self.spread_threshold = spread_threshold\n",
    "        self.start_time = pd.Timestamp(datetime.utcnow(), tz=pytz.timezone(\"UTC\"))\n",
    "        self.tick_decimals = tick_decimals\n",
    "        self.stop = None\n",
    "        self.stop_hit = False\n",
    "    \n",
    "        \n",
    "        #*****************add strategy-specific attributes here******************\n",
    "        self.window = window\n",
    "        #************************************************************************\n",
    "        self.set_positions()\n",
    "    \n",
    "    def get_most_recent(self, days = 5, columns=[\"open\", \"high\", \"low\", \"close\"]):\n",
    "        while True:\n",
    "            time.sleep(2)\n",
    "            now = datetime.utcnow()\n",
    "            now = now - timedelta(microseconds = now.microsecond)\n",
    "            past = now - timedelta(days = days)\n",
    "            df = self.get_history(instrument = self.instrument, start = past, end = now,\n",
    "                                   granularity = \"S5\", price = \"M\", localize = False).dropna(subset=\"c\")\n",
    "            df.rename(columns = {\"c\": \"close\", \"o\": \"open\", \"h\": \"high\", \"l\": \"low\"}, inplace = True)\n",
    "            df = df.assign(**{self.instrument: df.close})[columns + [self.instrument]]\n",
    "            df = df.resample(self.bar_length, label = \"right\").last().dropna().iloc[:-1]\n",
    "            self.raw_data = df.copy()\n",
    "            self.last_bar = self.raw_data.index[-1]\n",
    "            if pd.to_datetime(datetime.utcnow()).tz_localize(\"UTC\") - self.last_bar < self.bar_length:\n",
    "                break\n",
    "                \n",
    "    def on_success(self, time, bid, ask):\n",
    "        #print(self.ticks, end = \" \")\n",
    "        recent_tick = pd.to_datetime(time)\n",
    "        mid = (ask + bid)/2\n",
    "        df = pd.DataFrame(\n",
    "            {\n",
    "                self.instrument: mid,\n",
    "                \"open\": mid,\n",
    "                \"high\": mid,\n",
    "                \"low\": mid,\n",
    "                \"close\": mid\n",
    "            }, \n",
    "            index = [recent_tick]\n",
    "        )\n",
    "        self.tick_data = pd.concat([self.tick_data, df])\n",
    "        self.spread = ask - bid\n",
    "        \n",
    "        if recent_tick - self.last_bar > self.bar_length:\n",
    "            self.resample_and_join()\n",
    "            self.define_strategy()\n",
    "            self.execute_trades()\n",
    "\n",
    "\n",
    "        if self.stop and not self.stop_hit:\n",
    "            if self.position == 1:\n",
    "                if mid < self.stop:\n",
    "                    print(\"detected stop hit at:\", mid, \"stop is\", self.stop)\n",
    "                    self.stop_hit = True\n",
    "            elif self.position == -1:\n",
    "                if mid > self.stop:\n",
    "                    print(\"detected stop hit at:\", mid, \"stop is\", self.stop)\n",
    "                    self.stop_hit = True\n",
    "    \n",
    "    def resample_and_join(self):\n",
    "        self.raw_data = pd.concat([\n",
    "            self.raw_data, self.tick_data.resample(\n",
    "                self.bar_length, \n",
    "                label=\"right\"\n",
    "            ).agg(\n",
    "                {\n",
    "                    self.instrument: \"last\",\n",
    "                    \"open\": \"first\",\n",
    "                    \"high\": \"max\",\n",
    "                    \"low\": \"min\",\n",
    "                    \"close\": \"last\",\n",
    "                }\n",
    "            ).ffill().iloc[:-1]])\n",
    "        self.tick_data = self.tick_data.iloc[-1:]\n",
    "        self.last_bar = self.raw_data.index[-1]\n",
    "    \n",
    "    def define_strategy(self): # \"strategy-specific\"\n",
    "        df = self.raw_data.copy()\n",
    "        \n",
    "        #******************** define your strategy here ************************\n",
    "        df[\"returns\"] = np.log(df[self.instrument] / df[self.instrument].shift())\n",
    "        #df[\"position\"] = -np.sign(df.returns.rolling(self.window).mean())\n",
    "        df = self.strategy(df, self.instrument, **self.strategy_kwargs)\n",
    "        #***********************************************************************\n",
    "        indicator_string = f\"{df.index[-1]} \"\n",
    "        for indicator in self.indicators:\n",
    "            val = df.iloc[-1][indicator] if indicator in df.columns else None\n",
    "            indicator_string += f\"{indicator}: {val} \"\n",
    "        indicator_string += f\"account position: {self.account_position}\"\n",
    "        indicator_string += f\" spread: {self.spread:.4f}\"\n",
    "        print(indicator_string, end='\\r')\n",
    "        \n",
    "        self.data = df.copy()\n",
    "\n",
    "\n",
    "    def set_positions(self):\n",
    "        account_summary = self.get_account_summary(detailed=True)\n",
    "        for position in account_summary[\"positions\"]:\n",
    "            if position[\"instrument\"] == self.instrument:\n",
    "                long_units = float(position[\"long\"][\"units\"])\n",
    "                short_units = float(position[\"short\"][\"units\"])\n",
    "                if long_units > 0:\n",
    "                    self.account_position = long_units\n",
    "                    if self.use_account_position:\n",
    "                        self.position = 1\n",
    "                elif short_units < 0:\n",
    "                    self.account_position = short_units\n",
    "                    if self.use_account_position:\n",
    "                        self.position = -1\n",
    "                else:\n",
    "                    self.account_position = 0\n",
    "                    if self.use_account_position:\n",
    "                        self.position = 0\n",
    "                break\n",
    "    \n",
    "    def execute_trades(self):\n",
    "        self.set_positions()\n",
    "        last_netrual = self.data[\"position\"].iloc[-2] == 0\n",
    "        stop = str(round(self.data[\"stop\"].iloc[-1], self.tick_decimals))\n",
    "        spread_check = self.spread < self.spread_threshold\n",
    "        price = self.data[\"close\"].iloc[-1]\n",
    "    \n",
    "        if self.data[\"position\"].iloc[-1] == 1 and last_netrual and spread_check:\n",
    "            if self.position == 0:\n",
    "                order = self.create_order(\n",
    "                    self.instrument, self.units, suppress = True, ret = True,\n",
    "                    sl_distance=stop if self.stop_loss else None\n",
    "                    # sl_distance=round((.01 * self.stop_loss), 2) if self.stop_loss else None\n",
    "                )\n",
    "                \n",
    "                self.report_trade(order, \"GOING LONG\")\n",
    "            elif self.position == -1:\n",
    "                order = self.create_order(\n",
    "                    self.instrument, self.units * 2,\n",
    "                    sl_distance=stop if self.stop_loss else None,\n",
    "                    suppress = True, ret = True\n",
    "                ) \n",
    "                self.report_trade(order, \"GOING LONG\")\n",
    "            self.stop = price - float(stop) # keep track of stop\n",
    "            self.stop_hit = False\n",
    "            self.position = 1\n",
    "        elif self.data[\"position\"].iloc[-1] == -1 and last_netrual and spread_check:\n",
    "            print(\"stop\")\n",
    "            if self.position == 0:\n",
    "                order = self.create_order(\n",
    "                    self.instrument, -self.units, suppress = True, ret = True,\n",
    "                    sl_distance=stop if self.stop_loss else None\n",
    "                    # sl_distance=round((.01 * self.stop_loss), 2) if self.stop_loss else None\n",
    "                )\n",
    "                print(\"order is \", order)\n",
    "                self.report_trade(order, \"GOING SHORT\")\n",
    "            elif self.position == 1:\n",
    "                order = self.create_order(\n",
    "                    self.instrument, -self.units * 2,\n",
    "                    sl_distance=stop if self.stop_loss else None,\n",
    "                    suppress = True, ret = True\n",
    "                )\n",
    "                self.report_trade(order, \"GOING SHORT\")\n",
    "            self.stop = price + float(stop) # keep track of stop\n",
    "            self.stop_hit = False\n",
    "            self.position = -1\n",
    "        elif self.data[\"position\"].iloc[-1] == 0 and self.position != 0 and not self.stop_hit:\n",
    "            # update this to use units if self.use_account_position is False\n",
    "            order = trader.create_order(\n",
    "                trader.instrument, \n",
    "                -trader.account_position if self.use_account_position else (-self.position * self.units),\n",
    "                suppress = True,\n",
    "                ret = True\n",
    "            ) \n",
    "            if self.position == -1:\n",
    "                self.report_trade(order, \"GOING NEUTRAL\")\n",
    "            elif self.position == 1:\n",
    "                self.report_trade(order, \"GOING NEUTRAL\")\n",
    "            self.position = 0\n",
    "    \n",
    "    def report_trade(self, order, going):\n",
    "        print(\"order\", order)\n",
    "        time = order[\"time\"]\n",
    "        units = order[\"units\"]\n",
    "        price = order[\"price\"]\n",
    "        pl = float(order[\"pl\"])\n",
    "        self.profits.append(pl)\n",
    "        cumpl = sum(self.profits)\n",
    "        print(\"\\n\" + 100* \"-\")\n",
    "        print(\"{} | {}\".format(time, going))\n",
    "        print(\"{} | units = {} | price = {} | P&L = {} | Cum P&L = {}\".format(time, units, price, pl, cumpl))\n",
    "        self.trade_reporter(time, self.data)\n",
    "        print(100 * \"-\" + \"\\n\")  \n",
    "    "
   ]
  },
  {
   "cell_type": "markdown",
   "metadata": {},
   "source": [
    "Simple Contrarian: Bar_lenght = 1min | Window = 1 (1 minute)"
   ]
  },
  {
   "cell_type": "markdown",
   "metadata": {},
   "source": [
    "short"
   ]
  },
  {
   "cell_type": "code",
   "execution_count": 5,
   "metadata": {},
   "outputs": [],
   "source": [
    "trader = Trader(configfile, \"GBP_JPY\", bar_length = \"1min\", window=1, units=40000, strategy=rsi_positions, rsi_high_thresh=55, rsi_low_thresh=35, use_session=False, use_account_position=False)"
   ]
  },
  {
   "cell_type": "markdown",
   "metadata": {},
   "source": [
    "long"
   ]
  },
  {
   "cell_type": "code",
   "execution_count": null,
   "metadata": {},
   "outputs": [],
   "source": [
    "trader = Trader(configfile, \"GBP_JPY\", bar_length = \"1min\", window = 1, units = 40000, strategy=rsi_positions_long, rsi_high_thresh=65, rsi_low_thresh=45, use_account_position=True)"
   ]
  },
  {
   "cell_type": "code",
   "execution_count": null,
   "metadata": {},
   "outputs": [],
   "source": [
    "trader = Trader(configfile, \"EUR_USD\", bar_length = \"1min\", window = 1, units = 40000, strategy=rsi_positions, tick_decimals=4, rsi_high_thresh=55, rsi_low_thresh=35, use_account_position=True)"
   ]
  },
  {
   "cell_type": "code",
   "execution_count": null,
   "metadata": {},
   "outputs": [
    {
     "name": "stdout",
     "output_type": "stream",
     "text": [
      "2024-02-01 14:45:00+00:00 rsi: 59.803568374124055 last_rsi: 56.5098607400024 rsi_ma: 59.03122469265366 dm_diff: -3.94601252816674 position: 0.0 last_position: 0.0 atr: 0.046728751189090686 stop: 0.5607450142690882 in_session: False translated_time: None account position: 0 spread: 0.04106000\r"
     ]
    }
   ],
   "source": [
    "while True:\n",
    "    try:\n",
    "        trader.get_most_recent()\n",
    "        trader.stream_data(trader.instrument)#, stop = 200)\n",
    "        # if trader.position != 0: # if we have a final open position\n",
    "        #     close_order = trader.create_order(trader.instrument, units = -trader.position * trader.units, \n",
    "        #                                       suppress = True, ret = True) \n",
    "        #     trader.report_trade(close_order, \"GOING NEUTRAL\")\n",
    "        #     trader.position = 0\n",
    "    except Exception as e:\n",
    "        print(\"Encountered error\")\n",
    "        print(str(e))\n",
    "        time.sleep(2)"
   ]
  },
  {
   "cell_type": "code",
   "execution_count": null,
   "metadata": {},
   "outputs": [],
   "source": []
  }
 ],
 "metadata": {
  "kernelspec": {
   "display_name": "Python 3",
   "language": "python",
   "name": "python3"
  },
  "language_info": {
   "codemirror_mode": {
    "name": "ipython",
    "version": 3
   },
   "file_extension": ".py",
   "mimetype": "text/x-python",
   "name": "python",
   "nbconvert_exporter": "python",
   "pygments_lexer": "ipython3",
   "version": "3.9.18"
  }
 },
 "nbformat": 4,
 "nbformat_minor": 4
}
