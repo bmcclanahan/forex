{
 "cells": [
  {
   "cell_type": "markdown",
   "metadata": {},
   "source": [
    "# Real-time Implementation and Automation with Oanda "
   ]
  },
  {
   "cell_type": "markdown",
   "metadata": {},
   "source": [
    "--------------------------------------------------------------------------------------------------------------------"
   ]
  },
  {
   "cell_type": "markdown",
   "metadata": {},
   "source": [
    "_Disclaimer: <br>\n",
    "The following illustrative examples are for general information and educational purposes only. <br>\n",
    "It is neither investment advice nor a recommendation to trade, invest or take whatsoever actions.<br>\n",
    "The below code should only be used in combination with an Oanda Practice/Demo Account and NOT with a Live Trading Account._"
   ]
  },
  {
   "cell_type": "markdown",
   "metadata": {},
   "source": [
    "------------------------------------------------------------------------------------"
   ]
  },
  {
   "cell_type": "markdown",
   "metadata": {},
   "source": [
    "## Recap: Historical Data, real-time Data and Orders"
   ]
  },
  {
   "cell_type": "code",
   "execution_count": null,
   "metadata": {},
   "outputs": [],
   "source": [
    "import pandas as pd\n",
    "import tpqoa"
   ]
  },
  {
   "cell_type": "code",
   "execution_count": null,
   "metadata": {},
   "outputs": [],
   "source": [
    "configfile = \"../../../oanda-live.cfg\""
   ]
  },
  {
   "cell_type": "code",
   "execution_count": null,
   "metadata": {},
   "outputs": [],
   "source": [
    "api = tpqoa.tpqoa(configfile)"
   ]
  },
  {
   "cell_type": "markdown",
   "metadata": {},
   "source": [
    "__Historical Data__"
   ]
  },
  {
   "cell_type": "code",
   "execution_count": null,
   "metadata": {},
   "outputs": [],
   "source": [
    "from datetime import datetime"
   ]
  },
  {
   "cell_type": "code",
   "execution_count": null,
   "metadata": {},
   "outputs": [],
   "source": [
    "import pandas_ta as ta"
   ]
  },
  {
   "cell_type": "code",
   "execution_count": null,
   "metadata": {},
   "outputs": [],
   "source": [
    "df = api.get_history(instrument = \"GBP_USD\", start = \"2023-12-29\", end = datetime.now().strftime('%Y-%m-%d'),\n",
    "                granularity = \"M1\", price = \"M\", localize = False)\n"
   ]
  },
  {
   "cell_type": "code",
   "execution_count": null,
   "metadata": {},
   "outputs": [],
   "source": [
    "help(df.ta.dm)"
   ]
  },
  {
   "cell_type": "code",
   "execution_count": null,
   "metadata": {},
   "outputs": [],
   "source": [
    "df = df.rename({\"o\": \"open\", \"h\": \"high\", \"l\": \"low\", \"c\": \"close\"}, axis=1)"
   ]
  },
  {
   "cell_type": "code",
   "execution_count": null,
   "metadata": {},
   "outputs": [],
   "source": [
    "df = df.assign(rsi=df.ta.rsi(14))"
   ]
  },
  {
   "cell_type": "code",
   "execution_count": null,
   "metadata": {},
   "outputs": [],
   "source": [
    "df = df.assign(rsi=df.ta.rsi(14))\n",
    "df = df.assign(rsi_ma=df.ta.sma(length=14, close=df.rsi))"
   ]
  },
  {
   "cell_type": "code",
   "execution_count": null,
   "metadata": {},
   "outputs": [],
   "source": [
    "import plotly.graph_objects as go"
   ]
  },
  {
   "cell_type": "code",
   "execution_count": null,
   "metadata": {},
   "outputs": [],
   "source": [
    "fig = go.Figure()\n",
    "\n",
    "fig.add_trace(\n",
    "    go.Scattergl(\n",
    "        x=df.index, y=df.rsi, mode=\"lines\", marker=dict(color=\"red\")\n",
    "    )\n",
    ")\n",
    "fig.add_trace(\n",
    "    go.Scattergl(\n",
    "        x=df.index, y=df.rsi_ma, mode=\"lines\", marker=dict(color=\"blue\")\n",
    "    )\n",
    ")\n",
    "fig.add_trace(\n",
    "    go.Scattergl(\n",
    "        x=df.index[df.positions == -1], y=df.loc[df.positions == -1, \"rsi_ma\"], mode=\"markers\", marker=dict(color=\"green\")\n",
    "    )\n",
    ")\n",
    "fig       "
   ]
  },
  {
   "cell_type": "code",
   "execution_count": null,
   "metadata": {},
   "outputs": [],
   "source": [
    "from datetime import datetime\n",
    "import datetime as dt\n",
    "\n",
    "mask = (datetime(2024, 1, 1, 23, 13, tzinfo=dt.timezone.utc) > df.index) & (df.index > datetime(2024, 1, 1, 23, 9, tzinfo=dt.timezone.utc))"
   ]
  },
  {
   "cell_type": "code",
   "execution_count": null,
   "metadata": {},
   "outputs": [],
   "source": [
    "df.loc[mask]"
   ]
  },
  {
   "cell_type": "code",
   "execution_count": null,
   "metadata": {},
   "outputs": [],
   "source": [
    "datetime(2024, 1, 1, 23, 11, tzinfo=dt.timezone.utc) > df.index"
   ]
  },
  {
   "cell_type": "markdown",
   "metadata": {},
   "source": [
    "## Preview: A Trader Class live in action"
   ]
  },
  {
   "cell_type": "code",
   "execution_count": null,
   "metadata": {},
   "outputs": [],
   "source": [
    "configfile = \"../../../oanda-live.cfg\""
   ]
  },
  {
   "cell_type": "code",
   "execution_count": 2,
   "metadata": {},
   "outputs": [],
   "source": [
    "configfile = \"../../../oanda.cfg\""
   ]
  },
  {
   "cell_type": "code",
   "execution_count": 3,
   "metadata": {},
   "outputs": [],
   "source": [
    "import pandas as pd\n",
    "import numpy as np\n",
    "import tpqoa\n",
    "from datetime import datetime, timedelta\n",
    "import time\n",
    "import pandas_ta as ta"
   ]
  },
  {
   "cell_type": "code",
   "execution_count": 4,
   "metadata": {},
   "outputs": [],
   "source": [
    "import numpy as np\n",
    "\n",
    "def rsi_positions(\n",
    "    df, instrument, rsi_high_thresh=50, rsi_low_thresh=30, adx_length=200, dm_diff_thresh=0,\n",
    "    atr_period=14, atr_stop_multiplier=12, use_session=True\n",
    "):\n",
    "    if use_session:\n",
    "        start_time = 12 * 60 + 30\n",
    "        end_time = 21 * 60\n",
    "        translated_time = (df.index.hour * 60 + df.index.minute)\n",
    "        in_session = (translated_time > start_time) & (translated_time < end_time)\n",
    "    else:\n",
    "        in_session = False\n",
    "    #df = df.rename({instrument: \"close\"}, axis=1)#,\"o\": \"open\", \"h\": \"high\", \"l\": \"low\", \"c\": \"close\"}, axis=1)\n",
    "    df = df.assign(\n",
    "        rsi=df.ta.rsi(14),\n",
    "        atr=df.ta.atr(atr_period),\n",
    "        position=None,\n",
    "        in_session=in_session,\n",
    "        translated_time=translated_time\n",
    "    )\n",
    "    df = df.assign(\n",
    "        stop=df.atr * atr_stop_multiplier,\n",
    "    )\n",
    "    df = df.assign(rsi_ma=df.ta.sma(length=14, close=df.rsi))\n",
    "    df = df.assign(last_rsi=df.rsi.shift())\n",
    "    adx = df.ta.adx(length=adx_length)\n",
    "    df = df.assign(dm_diff=adx.iloc[:, -2] - adx.iloc[:, -1])\n",
    "\n",
    "    entries = (df.last_rsi > df.rsi_ma) & (df.rsi < df.rsi_ma) & (df.rsi > rsi_high_thresh) & (df.dm_diff < dm_diff_thresh) & df.in_session\n",
    "    df.loc[entries, \"position\"] = -1\n",
    "    df.loc[df.rsi < rsi_low_thresh, \"position\"] = 0\n",
    "    df = df.assign(position=df.position.ffill())\n",
    "    df = df.assign(position=df.position.fillna(0))\n",
    "    df = df.assign(last_position=df.position.shift())\n",
    "    return df\n",
    "\n",
    "def rsi_positions_long(\n",
    "    df, instrument, rsi_high_thresh=65, rsi_low_thresh=45, adx_length=200, dm_diff_thresh=0,\n",
    "    atr_period=14, atr_stop_multiplier=12\n",
    "):\n",
    "    #df = df.rename({instrument: \"close\"}, axis=1)#,\"o\": \"open\", \"h\": \"high\", \"l\": \"low\", \"c\": \"close\"}, axis=1)\n",
    "    df = df.assign(\n",
    "        rsi=df.ta.rsi(14),\n",
    "        atr=df.ta.atr(atr_period),\n",
    "        position=None\n",
    "    )\n",
    "    df = df.assign(\n",
    "        stop=df.atr * atr_stop_multiplier,\n",
    "    )\n",
    "    df = df.assign(rsi_ma=df.ta.sma(length=14, close=df.rsi))\n",
    "    df = df.assign(last_rsi=df.rsi.shift())\n",
    "    adx = df.ta.adx(length=adx_length)\n",
    "    df = df.assign(dm_diff=adx.iloc[:, -2] - adx.iloc[:, -1])\n",
    "\n",
    "    entries = (df.last_rsi < df.rsi_ma) & (df.rsi > df.rsi_ma) & (df.rsi < rsi_low_thresh) & (df.dm_diff > dm_diff_thresh)\n",
    "    df.loc[entries, \"position\"] = 1\n",
    "    df.loc[df.rsi > rsi_high_thresh, \"position\"] = 0\n",
    "    df = df.assign(position=df.position.ffill())\n",
    "    df = df.assign(position=df.position.fillna(0))\n",
    "    df = df.assign(last_position=df.position.shift())\n",
    "    return df\n",
    "\n",
    "# work in progress\n",
    "def rsi_positions_long_short(\n",
    "    df, instrument,\n",
    "    rsi_high_thresh_short=55, rsi_low_thresh_short=35,\n",
    "    rsi_high_thresh_long=65, rsi_low_thresh_long=45,\n",
    "    adx_length=200, dm_diff_thresh=0,\n",
    "    atr_period=14, atr_stop_multiplier=12\n",
    "):\n",
    "    #df = df.rename({instrument: \"close\"}, axis=1)#,\"o\": \"open\", \"h\": \"high\", \"l\": \"low\", \"c\": \"close\"}, axis=1)\n",
    "    df = df.assign(\n",
    "        rsi=df.ta.rsi(14),\n",
    "        atr=df.ta.atr(atr_period),\n",
    "        position=None\n",
    "    )\n",
    "    df = df.assign(\n",
    "        stop=df.atr * atr_stop_multiplier,\n",
    "    )\n",
    "    df = df.assign(rsi_ma=df.ta.sma(length=14, close=df.rsi))\n",
    "    df = df.assign(last_rsi=df.rsi.shift())\n",
    "    adx = df.ta.adx(length=adx_length)\n",
    "    df = df.assign(dm_diff=adx.iloc[:, -2] - adx.iloc[:, -1])\n",
    "\n",
    "    entries = (df.last_rsi < df.rsi_ma) & (df.rsi > df.rsi_ma) & (df.rsi < rsi_low_thresh_long) & (df.dm_diff > dm_diff_thresh)\n",
    "    df.loc[entries, \"position\"] = 1\n",
    "    df.loc[df.rsi > rsi_high_thresh_long, \"position\"] = 0\n",
    "    entries = (df.last_rsi > df.rsi_ma) & (df.rsi < df.rsi_ma) & (df.rsi > rsi_high_thresh_short) & (df.dm_diff < dm_diff_thresh)\n",
    "    df.loc[entries, \"position\"] = -1\n",
    "    df.loc[df.rsi < rsi_low_thresh_short, \"position\"] = 0\n",
    "    df = df.assign(position=df.position.ffill())\n",
    "    df = df.assign(position=df.position.fillna(0))\n",
    "    df = df.assign(last_position=df.position.shift())\n",
    "    return df\n",
    "\n",
    "\n",
    "\n",
    "\n",
    "\n",
    "def rsi_trade_report(time, df):\n",
    "    last_row = df.iloc[-1]\n",
    "    print(\"{} | rsi = {} | prev rsi = {} | rsi ma = {}\".format(time, last_row.rsi, last_row.last_rsi, last_row.rsi_ma))"
   ]
  },
  {
   "cell_type": "code",
   "execution_count": 5,
   "metadata": {},
   "outputs": [],
   "source": [
    "import pytz\n",
    "\n",
    "class Trader(tpqoa.tpqoa):\n",
    "    def __init__(self, conf_file, instrument, bar_length, window, units,\n",
    "                 stop_loss=50, indicators=[\"rsi\", \"last_rsi\", \"rsi_ma\", \"dm_diff\", \"position\", \"last_position\", \"atr\", \"stop\", \"in_session\", \"translated_time\"],\n",
    "                 trade_reporter=rsi_trade_report, strategy=rsi_positions,\n",
    "                 use_account_position=True,\n",
    "                 spread_threshold=0.05,\n",
    "                 tick_decimals=3,\n",
    "                 **strategy_kwargs):\n",
    "        super().__init__(conf_file)\n",
    "        self.instrument = instrument\n",
    "        self.bar_length = pd.to_timedelta(bar_length)\n",
    "        self.tick_data = pd.DataFrame()\n",
    "        self.raw_data = None\n",
    "        self.data = None \n",
    "        self.last_bar = None\n",
    "        self.units = units\n",
    "        self.position = 0\n",
    "        self.profits = []\n",
    "        self.strategy = strategy\n",
    "        self.indicators = indicators\n",
    "        self.trade_reporter = trade_reporter\n",
    "        self.use_account_position = use_account_position\n",
    "        self.strategy_kwargs = strategy_kwargs\n",
    "        self.stop_loss = stop_loss\n",
    "        self.account_position = None\n",
    "        self.spread = None\n",
    "        self.spread_threshold = spread_threshold\n",
    "        self.start_time = pd.Timestamp(datetime.utcnow(), tz=pytz.timezone(\"UTC\"))\n",
    "        self.tick_decimals = tick_decimals\n",
    "        \n",
    "        #*****************add strategy-specific attributes here******************\n",
    "        self.window = window\n",
    "        #************************************************************************\n",
    "        self.set_positions()\n",
    "    \n",
    "    def get_most_recent(self, days = 5, columns=[\"open\", \"high\", \"low\", \"close\"]):\n",
    "        while True:\n",
    "            time.sleep(2)\n",
    "            now = datetime.utcnow()\n",
    "            now = now - timedelta(microseconds = now.microsecond)\n",
    "            past = now - timedelta(days = days)\n",
    "            df = self.get_history(instrument = self.instrument, start = past, end = now,\n",
    "                                   granularity = \"S5\", price = \"M\", localize = False).dropna(subset=\"c\")\n",
    "            df.rename(columns = {\"c\": \"close\", \"o\": \"open\", \"h\": \"high\", \"l\": \"low\"}, inplace = True)\n",
    "            df = df.assign(**{self.instrument: df.close})[columns + [self.instrument]]\n",
    "            df = df.resample(self.bar_length, label = \"right\").last().dropna().iloc[:-1]\n",
    "            self.raw_data = df.copy()\n",
    "            self.last_bar = self.raw_data.index[-1]\n",
    "            if pd.to_datetime(datetime.utcnow()).tz_localize(\"UTC\") - self.last_bar < self.bar_length:\n",
    "                break\n",
    "                \n",
    "    def on_success(self, time, bid, ask):\n",
    "        #print(self.ticks, end = \" \")\n",
    "        recent_tick = pd.to_datetime(time)\n",
    "        mid = (ask + bid)/2\n",
    "        df = pd.DataFrame(\n",
    "            {\n",
    "                self.instrument: mid,\n",
    "                \"open\": mid,\n",
    "                \"high\": mid,\n",
    "                \"low\": mid,\n",
    "                \"close\": mid\n",
    "            }, \n",
    "            index = [recent_tick]\n",
    "        )\n",
    "        self.tick_data = pd.concat([self.tick_data, df])\n",
    "        self.spread = ask - bid\n",
    "        \n",
    "        if recent_tick - self.last_bar > self.bar_length:\n",
    "            self.resample_and_join()\n",
    "            self.define_strategy()\n",
    "            self.execute_trades()\n",
    "    \n",
    "    def resample_and_join(self):\n",
    "        self.raw_data = pd.concat([\n",
    "            self.raw_data, self.tick_data.resample(\n",
    "                self.bar_length, \n",
    "                label=\"right\"\n",
    "            ).agg(\n",
    "                {\n",
    "                    self.instrument: \"last\",\n",
    "                    \"open\": \"first\",\n",
    "                    \"high\": \"max\",\n",
    "                    \"low\": \"min\",\n",
    "                    \"close\": \"last\",\n",
    "                }\n",
    "            ).ffill().iloc[:-1]])\n",
    "        self.tick_data = self.tick_data.iloc[-1:]\n",
    "        self.last_bar = self.raw_data.index[-1]\n",
    "    \n",
    "    def define_strategy(self): # \"strategy-specific\"\n",
    "        df = self.raw_data.copy()\n",
    "        \n",
    "        #******************** define your strategy here ************************\n",
    "        df[\"returns\"] = np.log(df[self.instrument] / df[self.instrument].shift())\n",
    "        #df[\"position\"] = -np.sign(df.returns.rolling(self.window).mean())\n",
    "        df = self.strategy(df, self.instrument, **self.strategy_kwargs)\n",
    "        #***********************************************************************\n",
    "        indicator_string = f\"{df.index[-1]} \"\n",
    "        for indicator in self.indicators:\n",
    "            val = df.iloc[-1][indicator] if indicator in df.columns else None\n",
    "            indicator_string += f\"{indicator}: {val} \"\n",
    "        indicator_string += f\"account position: {self.account_position}\"\n",
    "        indicator_string += f\" spread: {self.spread:.4f}\"\n",
    "        print(indicator_string, end='\\r')\n",
    "        \n",
    "        self.data = df.copy()\n",
    "\n",
    "\n",
    "    def set_positions(self):\n",
    "        account_summary = self.get_account_summary(detailed=True)\n",
    "        for position in account_summary[\"positions\"]:\n",
    "            if position[\"instrument\"] == self.instrument:\n",
    "                long_units = float(position[\"long\"][\"units\"])\n",
    "                short_units = float(position[\"short\"][\"units\"])\n",
    "                if long_units > 0:\n",
    "                    self.account_position = long_units\n",
    "                    if self.use_account_position:\n",
    "                        self.position = 1\n",
    "                elif short_units < 0:\n",
    "                    self.account_position = short_units\n",
    "                    if self.use_account_position:\n",
    "                        self.position = -1\n",
    "                else:\n",
    "                    self.account_position = 0\n",
    "                    if self.use_account_position:\n",
    "                        self.position = 0\n",
    "                break\n",
    "    \n",
    "    def execute_trades(self):\n",
    "        self.set_positions()\n",
    "        last_netrual = self.data[\"position\"].iloc[-2] == 0\n",
    "        stop = str(round(self.data[\"stop\"].iloc[-1], self.tick_decimals))\n",
    "        spread_check = self.spread < self.spread_threshold\n",
    "        if self.data[\"position\"].iloc[-1] == 1 and last_netrual and spread_check:\n",
    "            if self.position == 0:\n",
    "                order = self.create_order(\n",
    "                    self.instrument, self.units, suppress = True, ret = True,\n",
    "                    sl_distance=stop if self.stop_loss else None\n",
    "                    # sl_distance=round((.01 * self.stop_loss), 2) if self.stop_loss else None\n",
    "                )\n",
    "                self.report_trade(order, \"GOING LONG\")\n",
    "            elif self.position == -1:\n",
    "                order = self.create_order(\n",
    "                    self.instrument, self.units * 2,\n",
    "                    sl_distance=stop if self.stop_loss else None,\n",
    "                    suppress = True, ret = True\n",
    "                ) \n",
    "                self.report_trade(order, \"GOING LONG\")\n",
    "            self.position = 1\n",
    "        elif self.data[\"position\"].iloc[-1] == -1 and last_netrual and spread_check:\n",
    "            print(\"stop\")\n",
    "            if self.position == 0:\n",
    "                order = self.create_order(\n",
    "                    self.instrument, -self.units, suppress = True, ret = True,\n",
    "                    sl_distance=stop if self.stop_loss else None\n",
    "                    # sl_distance=round((.01 * self.stop_loss), 2) if self.stop_loss else None\n",
    "                )\n",
    "                print(\"order is \", order)\n",
    "                self.report_trade(order, \"GOING SHORT\")\n",
    "            elif self.position == 1:\n",
    "                order = self.create_order(\n",
    "                    self.instrument, -self.units * 2,\n",
    "                    sl_distance=stop if self.stop_loss else None,\n",
    "                    suppress = True, ret = True\n",
    "                )\n",
    "                self.report_trade(order, \"GOING SHORT\")\n",
    "            self.position = -1\n",
    "        elif self.data[\"position\"].iloc[-1] == 0 and self.position != 0:\n",
    "            # update this to use units if self.use_account_position is False\n",
    "            order = trader.create_order(\n",
    "                trader.instrument, \n",
    "                -trader.account_position if self.use_account_position else (-self.position * self.units),\n",
    "                suppress = True,\n",
    "                ret = True\n",
    "            ) \n",
    "            if self.position == -1:\n",
    "                self.report_trade(order, \"GOING NEUTRAL\")\n",
    "            elif self.position == 1:\n",
    "                self.report_trade(order, \"GOING NEUTRAL\")\n",
    "            self.position = 0\n",
    "    \n",
    "    def report_trade(self, order, going):\n",
    "        print(\"order\", order)\n",
    "        time = order[\"time\"]\n",
    "        units = order[\"units\"]\n",
    "        price = order[\"price\"]\n",
    "        pl = float(order[\"pl\"])\n",
    "        self.profits.append(pl)\n",
    "        cumpl = sum(self.profits)\n",
    "        print(\"\\n\" + 100* \"-\")\n",
    "        print(\"{} | {}\".format(time, going))\n",
    "        print(\"{} | units = {} | price = {} | P&L = {} | Cum P&L = {}\".format(time, units, price, pl, cumpl))\n",
    "        self.trade_reporter(time, self.data)\n",
    "        print(100 * \"-\" + \"\\n\")  \n",
    "    "
   ]
  },
  {
   "cell_type": "markdown",
   "metadata": {},
   "source": [
    "Simple Contrarian: Bar_lenght = 1min | Window = 1 (1 minute)"
   ]
  },
  {
   "cell_type": "markdown",
   "metadata": {},
   "source": [
    "short"
   ]
  },
  {
   "cell_type": "code",
   "execution_count": null,
   "metadata": {},
   "outputs": [],
   "source": [
    "trader = Trader(configfile, \"GBP_JPY\", bar_length = \"1min\", window = 1, units = 20000, rsi_high_thresh=55, rsi_low_thresh=35)"
   ]
  },
  {
   "cell_type": "markdown",
   "metadata": {},
   "source": [
    "long"
   ]
  },
  {
   "cell_type": "code",
   "execution_count": null,
   "metadata": {},
   "outputs": [],
   "source": [
    "trader = Trader(configfile, \"GBP_JPY\", bar_length = \"1min\", window = 1, units = 40000, strategy=rsi_positions_long, rsi_high_thresh=65, rsi_low_thresh=45, use_account_position=True)"
   ]
  },
  {
   "cell_type": "code",
   "execution_count": 6,
   "metadata": {},
   "outputs": [],
   "source": [
    "trader = Trader(configfile, \"EUR_USD\", bar_length = \"1min\", window = 1, units = 40000, strategy=rsi_positions, tick_decimals=4, rsi_high_thresh=55, rsi_low_thresh=35, use_account_position=True)"
   ]
  },
  {
   "cell_type": "code",
   "execution_count": 7,
   "metadata": {},
   "outputs": [
    {
     "name": "stdout",
     "output_type": "stream",
     "text": [
      "2024-01-25 16:35:00+00:00 rsi: 52.94528179966706 last_rsi: 50.284957332693175 rsi_ma: 53.02365073017253 dm_diff: -8.975003377223878 position: -1.0 last_position: -1.0 atr: 0.00012518381024432268 stop: 0.0015022057229318723 in_session: False translated_time: 995 account position: 0 spread: 0.0001\r"
     ]
    },
    {
     "ename": "KeyboardInterrupt",
     "evalue": "",
     "output_type": "error",
     "traceback": [
      "\u001b[0;31m---------------------------------------------------------------------------\u001b[0m",
      "\u001b[0;31mKeyboardInterrupt\u001b[0m                         Traceback (most recent call last)",
      "Cell \u001b[0;32mIn[7], line 4\u001b[0m\n\u001b[1;32m      2\u001b[0m \u001b[38;5;28;01mtry\u001b[39;00m:\n\u001b[1;32m      3\u001b[0m     trader\u001b[38;5;241m.\u001b[39mget_most_recent()\n\u001b[0;32m----> 4\u001b[0m     \u001b[43mtrader\u001b[49m\u001b[38;5;241;43m.\u001b[39;49m\u001b[43mstream_data\u001b[49m\u001b[43m(\u001b[49m\u001b[43mtrader\u001b[49m\u001b[38;5;241;43m.\u001b[39;49m\u001b[43minstrument\u001b[49m\u001b[43m)\u001b[49m\u001b[38;5;66;03m#, stop = 200)\u001b[39;00m\n\u001b[1;32m      5\u001b[0m     \u001b[38;5;66;03m# if trader.position != 0: # if we have a final open position\u001b[39;00m\n\u001b[1;32m      6\u001b[0m     \u001b[38;5;66;03m#     close_order = trader.create_order(trader.instrument, units = -trader.position * trader.units, \u001b[39;00m\n\u001b[1;32m      7\u001b[0m     \u001b[38;5;66;03m#                                       suppress = True, ret = True) \u001b[39;00m\n\u001b[1;32m      8\u001b[0m     \u001b[38;5;66;03m#     trader.report_trade(close_order, \"GOING NEUTRAL\")\u001b[39;00m\n\u001b[1;32m      9\u001b[0m     \u001b[38;5;66;03m#     trader.position = 0\u001b[39;00m\n\u001b[1;32m     10\u001b[0m \u001b[38;5;28;01mexcept\u001b[39;00m \u001b[38;5;167;01mException\u001b[39;00m \u001b[38;5;28;01mas\u001b[39;00m e:\n",
      "File \u001b[0;32m~/opt/anaconda3/envs/forex/lib/python3.9/site-packages/tpqoa/tpqoa.py:346\u001b[0m, in \u001b[0;36mtpqoa.stream_data\u001b[0;34m(self, instrument, stop, ret, callback)\u001b[0m\n\u001b[1;32m    342\u001b[0m response \u001b[38;5;241m=\u001b[39m \u001b[38;5;28mself\u001b[39m\u001b[38;5;241m.\u001b[39mctx_stream\u001b[38;5;241m.\u001b[39mpricing\u001b[38;5;241m.\u001b[39mstream(\n\u001b[1;32m    343\u001b[0m     \u001b[38;5;28mself\u001b[39m\u001b[38;5;241m.\u001b[39maccount_id, snapshot\u001b[38;5;241m=\u001b[39m\u001b[38;5;28;01mTrue\u001b[39;00m,\n\u001b[1;32m    344\u001b[0m     instruments\u001b[38;5;241m=\u001b[39minstrument)\n\u001b[1;32m    345\u001b[0m msgs \u001b[38;5;241m=\u001b[39m []\n\u001b[0;32m--> 346\u001b[0m \u001b[38;5;28;01mfor\u001b[39;00m msg_type, msg \u001b[38;5;129;01min\u001b[39;00m response\u001b[38;5;241m.\u001b[39mparts():\n\u001b[1;32m    347\u001b[0m     msgs\u001b[38;5;241m.\u001b[39mappend(msg)\n\u001b[1;32m    348\u001b[0m     \u001b[38;5;66;03m# print(msg_type, msg)\u001b[39;00m\n",
      "File \u001b[0;32m~/opt/anaconda3/envs/forex/lib/python3.9/site-packages/v20/response.py:52\u001b[0m, in \u001b[0;36mResponse.parts\u001b[0;34m(self)\u001b[0m\n\u001b[1;32m     49\u001b[0m     \u001b[38;5;28;01mreturn\u001b[39;00m\n\u001b[1;32m     51\u001b[0m \u001b[38;5;28;01mtry\u001b[39;00m:\n\u001b[0;32m---> 52\u001b[0m     \u001b[38;5;28;01mfor\u001b[39;00m line \u001b[38;5;129;01min\u001b[39;00m \u001b[38;5;28mself\u001b[39m\u001b[38;5;241m.\u001b[39mlines:\n\u001b[1;32m     53\u001b[0m         \u001b[38;5;28;01myield\u001b[39;00m parser(line)\n\u001b[1;32m     54\u001b[0m \u001b[38;5;28;01mexcept\u001b[39;00m requests\u001b[38;5;241m.\u001b[39mexceptions\u001b[38;5;241m.\u001b[39mConnectionError:\n",
      "File \u001b[0;32m~/opt/anaconda3/envs/forex/lib/python3.9/site-packages/requests/models.py:865\u001b[0m, in \u001b[0;36mResponse.iter_lines\u001b[0;34m(self, chunk_size, decode_unicode, delimiter)\u001b[0m\n\u001b[1;32m    856\u001b[0m \u001b[38;5;250m\u001b[39m\u001b[38;5;124;03m\"\"\"Iterates over the response data, one line at a time.  When\u001b[39;00m\n\u001b[1;32m    857\u001b[0m \u001b[38;5;124;03mstream=True is set on the request, this avoids reading the\u001b[39;00m\n\u001b[1;32m    858\u001b[0m \u001b[38;5;124;03mcontent at once into memory for large responses.\u001b[39;00m\n\u001b[1;32m    859\u001b[0m \n\u001b[1;32m    860\u001b[0m \u001b[38;5;124;03m.. note:: This method is not reentrant safe.\u001b[39;00m\n\u001b[1;32m    861\u001b[0m \u001b[38;5;124;03m\"\"\"\u001b[39;00m\n\u001b[1;32m    863\u001b[0m pending \u001b[38;5;241m=\u001b[39m \u001b[38;5;28;01mNone\u001b[39;00m\n\u001b[0;32m--> 865\u001b[0m \u001b[38;5;28;01mfor\u001b[39;00m chunk \u001b[38;5;129;01min\u001b[39;00m \u001b[38;5;28mself\u001b[39m\u001b[38;5;241m.\u001b[39miter_content(\n\u001b[1;32m    866\u001b[0m     chunk_size\u001b[38;5;241m=\u001b[39mchunk_size, decode_unicode\u001b[38;5;241m=\u001b[39mdecode_unicode\n\u001b[1;32m    867\u001b[0m ):\n\u001b[1;32m    869\u001b[0m     \u001b[38;5;28;01mif\u001b[39;00m pending \u001b[38;5;129;01mis\u001b[39;00m \u001b[38;5;129;01mnot\u001b[39;00m \u001b[38;5;28;01mNone\u001b[39;00m:\n\u001b[1;32m    870\u001b[0m         chunk \u001b[38;5;241m=\u001b[39m pending \u001b[38;5;241m+\u001b[39m chunk\n",
      "File \u001b[0;32m~/opt/anaconda3/envs/forex/lib/python3.9/site-packages/requests/models.py:816\u001b[0m, in \u001b[0;36mResponse.iter_content.<locals>.generate\u001b[0;34m()\u001b[0m\n\u001b[1;32m    814\u001b[0m \u001b[38;5;28;01mif\u001b[39;00m \u001b[38;5;28mhasattr\u001b[39m(\u001b[38;5;28mself\u001b[39m\u001b[38;5;241m.\u001b[39mraw, \u001b[38;5;124m\"\u001b[39m\u001b[38;5;124mstream\u001b[39m\u001b[38;5;124m\"\u001b[39m):\n\u001b[1;32m    815\u001b[0m     \u001b[38;5;28;01mtry\u001b[39;00m:\n\u001b[0;32m--> 816\u001b[0m         \u001b[38;5;28;01myield from\u001b[39;00m \u001b[38;5;28mself\u001b[39m\u001b[38;5;241m.\u001b[39mraw\u001b[38;5;241m.\u001b[39mstream(chunk_size, decode_content\u001b[38;5;241m=\u001b[39m\u001b[38;5;28;01mTrue\u001b[39;00m)\n\u001b[1;32m    817\u001b[0m     \u001b[38;5;28;01mexcept\u001b[39;00m ProtocolError \u001b[38;5;28;01mas\u001b[39;00m e:\n\u001b[1;32m    818\u001b[0m         \u001b[38;5;28;01mraise\u001b[39;00m ChunkedEncodingError(e)\n",
      "File \u001b[0;32m~/opt/anaconda3/envs/forex/lib/python3.9/site-packages/urllib3/response.py:624\u001b[0m, in \u001b[0;36mHTTPResponse.stream\u001b[0;34m(self, amt, decode_content)\u001b[0m\n\u001b[1;32m    608\u001b[0m \u001b[38;5;250m\u001b[39m\u001b[38;5;124;03m\"\"\"\u001b[39;00m\n\u001b[1;32m    609\u001b[0m \u001b[38;5;124;03mA generator wrapper for the read() method. A call will block until\u001b[39;00m\n\u001b[1;32m    610\u001b[0m \u001b[38;5;124;03m``amt`` bytes have been read from the connection or until the\u001b[39;00m\n\u001b[0;32m   (...)\u001b[0m\n\u001b[1;32m    621\u001b[0m \u001b[38;5;124;03m    'content-encoding' header.\u001b[39;00m\n\u001b[1;32m    622\u001b[0m \u001b[38;5;124;03m\"\"\"\u001b[39;00m\n\u001b[1;32m    623\u001b[0m \u001b[38;5;28;01mif\u001b[39;00m \u001b[38;5;28mself\u001b[39m\u001b[38;5;241m.\u001b[39mchunked \u001b[38;5;129;01mand\u001b[39;00m \u001b[38;5;28mself\u001b[39m\u001b[38;5;241m.\u001b[39msupports_chunked_reads():\n\u001b[0;32m--> 624\u001b[0m     \u001b[38;5;28;01mfor\u001b[39;00m line \u001b[38;5;129;01min\u001b[39;00m \u001b[38;5;28mself\u001b[39m\u001b[38;5;241m.\u001b[39mread_chunked(amt, decode_content\u001b[38;5;241m=\u001b[39mdecode_content):\n\u001b[1;32m    625\u001b[0m         \u001b[38;5;28;01myield\u001b[39;00m line\n\u001b[1;32m    626\u001b[0m \u001b[38;5;28;01melse\u001b[39;00m:\n",
      "File \u001b[0;32m~/opt/anaconda3/envs/forex/lib/python3.9/site-packages/urllib3/response.py:828\u001b[0m, in \u001b[0;36mHTTPResponse.read_chunked\u001b[0;34m(self, amt, decode_content)\u001b[0m\n\u001b[1;32m    825\u001b[0m     \u001b[38;5;28;01mreturn\u001b[39;00m\n\u001b[1;32m    827\u001b[0m \u001b[38;5;28;01mwhile\u001b[39;00m \u001b[38;5;28;01mTrue\u001b[39;00m:\n\u001b[0;32m--> 828\u001b[0m     \u001b[38;5;28;43mself\u001b[39;49m\u001b[38;5;241;43m.\u001b[39;49m\u001b[43m_update_chunk_length\u001b[49m\u001b[43m(\u001b[49m\u001b[43m)\u001b[49m\n\u001b[1;32m    829\u001b[0m     \u001b[38;5;28;01mif\u001b[39;00m \u001b[38;5;28mself\u001b[39m\u001b[38;5;241m.\u001b[39mchunk_left \u001b[38;5;241m==\u001b[39m \u001b[38;5;241m0\u001b[39m:\n\u001b[1;32m    830\u001b[0m         \u001b[38;5;28;01mbreak\u001b[39;00m\n",
      "File \u001b[0;32m~/opt/anaconda3/envs/forex/lib/python3.9/site-packages/urllib3/response.py:758\u001b[0m, in \u001b[0;36mHTTPResponse._update_chunk_length\u001b[0;34m(self)\u001b[0m\n\u001b[1;32m    756\u001b[0m \u001b[38;5;28;01mif\u001b[39;00m \u001b[38;5;28mself\u001b[39m\u001b[38;5;241m.\u001b[39mchunk_left \u001b[38;5;129;01mis\u001b[39;00m \u001b[38;5;129;01mnot\u001b[39;00m \u001b[38;5;28;01mNone\u001b[39;00m:\n\u001b[1;32m    757\u001b[0m     \u001b[38;5;28;01mreturn\u001b[39;00m\n\u001b[0;32m--> 758\u001b[0m line \u001b[38;5;241m=\u001b[39m \u001b[38;5;28;43mself\u001b[39;49m\u001b[38;5;241;43m.\u001b[39;49m\u001b[43m_fp\u001b[49m\u001b[38;5;241;43m.\u001b[39;49m\u001b[43mfp\u001b[49m\u001b[38;5;241;43m.\u001b[39;49m\u001b[43mreadline\u001b[49m\u001b[43m(\u001b[49m\u001b[43m)\u001b[49m\n\u001b[1;32m    759\u001b[0m line \u001b[38;5;241m=\u001b[39m line\u001b[38;5;241m.\u001b[39msplit(\u001b[38;5;124mb\u001b[39m\u001b[38;5;124m\"\u001b[39m\u001b[38;5;124m;\u001b[39m\u001b[38;5;124m\"\u001b[39m, \u001b[38;5;241m1\u001b[39m)[\u001b[38;5;241m0\u001b[39m]\n\u001b[1;32m    760\u001b[0m \u001b[38;5;28;01mtry\u001b[39;00m:\n",
      "File \u001b[0;32m~/opt/anaconda3/envs/forex/lib/python3.9/socket.py:704\u001b[0m, in \u001b[0;36mSocketIO.readinto\u001b[0;34m(self, b)\u001b[0m\n\u001b[1;32m    702\u001b[0m \u001b[38;5;28;01mwhile\u001b[39;00m \u001b[38;5;28;01mTrue\u001b[39;00m:\n\u001b[1;32m    703\u001b[0m     \u001b[38;5;28;01mtry\u001b[39;00m:\n\u001b[0;32m--> 704\u001b[0m         \u001b[38;5;28;01mreturn\u001b[39;00m \u001b[38;5;28;43mself\u001b[39;49m\u001b[38;5;241;43m.\u001b[39;49m\u001b[43m_sock\u001b[49m\u001b[38;5;241;43m.\u001b[39;49m\u001b[43mrecv_into\u001b[49m\u001b[43m(\u001b[49m\u001b[43mb\u001b[49m\u001b[43m)\u001b[49m\n\u001b[1;32m    705\u001b[0m     \u001b[38;5;28;01mexcept\u001b[39;00m timeout:\n\u001b[1;32m    706\u001b[0m         \u001b[38;5;28mself\u001b[39m\u001b[38;5;241m.\u001b[39m_timeout_occurred \u001b[38;5;241m=\u001b[39m \u001b[38;5;28;01mTrue\u001b[39;00m\n",
      "File \u001b[0;32m~/opt/anaconda3/envs/forex/lib/python3.9/ssl.py:1275\u001b[0m, in \u001b[0;36mSSLSocket.recv_into\u001b[0;34m(self, buffer, nbytes, flags)\u001b[0m\n\u001b[1;32m   1271\u001b[0m     \u001b[38;5;28;01mif\u001b[39;00m flags \u001b[38;5;241m!=\u001b[39m \u001b[38;5;241m0\u001b[39m:\n\u001b[1;32m   1272\u001b[0m         \u001b[38;5;28;01mraise\u001b[39;00m \u001b[38;5;167;01mValueError\u001b[39;00m(\n\u001b[1;32m   1273\u001b[0m           \u001b[38;5;124m\"\u001b[39m\u001b[38;5;124mnon-zero flags not allowed in calls to recv_into() on \u001b[39m\u001b[38;5;132;01m%s\u001b[39;00m\u001b[38;5;124m\"\u001b[39m \u001b[38;5;241m%\u001b[39m\n\u001b[1;32m   1274\u001b[0m           \u001b[38;5;28mself\u001b[39m\u001b[38;5;241m.\u001b[39m\u001b[38;5;18m__class__\u001b[39m)\n\u001b[0;32m-> 1275\u001b[0m     \u001b[38;5;28;01mreturn\u001b[39;00m \u001b[38;5;28;43mself\u001b[39;49m\u001b[38;5;241;43m.\u001b[39;49m\u001b[43mread\u001b[49m\u001b[43m(\u001b[49m\u001b[43mnbytes\u001b[49m\u001b[43m,\u001b[49m\u001b[43m \u001b[49m\u001b[43mbuffer\u001b[49m\u001b[43m)\u001b[49m\n\u001b[1;32m   1276\u001b[0m \u001b[38;5;28;01melse\u001b[39;00m:\n\u001b[1;32m   1277\u001b[0m     \u001b[38;5;28;01mreturn\u001b[39;00m \u001b[38;5;28msuper\u001b[39m()\u001b[38;5;241m.\u001b[39mrecv_into(buffer, nbytes, flags)\n",
      "File \u001b[0;32m~/opt/anaconda3/envs/forex/lib/python3.9/ssl.py:1133\u001b[0m, in \u001b[0;36mSSLSocket.read\u001b[0;34m(self, len, buffer)\u001b[0m\n\u001b[1;32m   1131\u001b[0m \u001b[38;5;28;01mtry\u001b[39;00m:\n\u001b[1;32m   1132\u001b[0m     \u001b[38;5;28;01mif\u001b[39;00m buffer \u001b[38;5;129;01mis\u001b[39;00m \u001b[38;5;129;01mnot\u001b[39;00m \u001b[38;5;28;01mNone\u001b[39;00m:\n\u001b[0;32m-> 1133\u001b[0m         \u001b[38;5;28;01mreturn\u001b[39;00m \u001b[38;5;28;43mself\u001b[39;49m\u001b[38;5;241;43m.\u001b[39;49m\u001b[43m_sslobj\u001b[49m\u001b[38;5;241;43m.\u001b[39;49m\u001b[43mread\u001b[49m\u001b[43m(\u001b[49m\u001b[38;5;28;43mlen\u001b[39;49m\u001b[43m,\u001b[49m\u001b[43m \u001b[49m\u001b[43mbuffer\u001b[49m\u001b[43m)\u001b[49m\n\u001b[1;32m   1134\u001b[0m     \u001b[38;5;28;01melse\u001b[39;00m:\n\u001b[1;32m   1135\u001b[0m         \u001b[38;5;28;01mreturn\u001b[39;00m \u001b[38;5;28mself\u001b[39m\u001b[38;5;241m.\u001b[39m_sslobj\u001b[38;5;241m.\u001b[39mread(\u001b[38;5;28mlen\u001b[39m)\n",
      "\u001b[0;31mKeyboardInterrupt\u001b[0m: "
     ]
    }
   ],
   "source": [
    "while True:\n",
    "    try:\n",
    "        trader.get_most_recent()\n",
    "        trader.stream_data(trader.instrument)#, stop = 200)\n",
    "        # if trader.position != 0: # if we have a final open position\n",
    "        #     close_order = trader.create_order(trader.instrument, units = -trader.position * trader.units, \n",
    "        #                                       suppress = True, ret = True) \n",
    "        #     trader.report_trade(close_order, \"GOING NEUTRAL\")\n",
    "        #     trader.position = 0\n",
    "    except Exception as e:\n",
    "        print(\"Encountered error\")\n",
    "        print(str(e))\n",
    "        time.sleep(2)"
   ]
  },
  {
   "cell_type": "code",
   "execution_count": null,
   "metadata": {},
   "outputs": [],
   "source": []
  }
 ],
 "metadata": {
  "kernelspec": {
   "display_name": "Python 3 (ipykernel)",
   "language": "python",
   "name": "python3"
  },
  "language_info": {
   "codemirror_mode": {
    "name": "ipython",
    "version": 3
   },
   "file_extension": ".py",
   "mimetype": "text/x-python",
   "name": "python",
   "nbconvert_exporter": "python",
   "pygments_lexer": "ipython3",
   "version": "3.9.18"
  }
 },
 "nbformat": 4,
 "nbformat_minor": 4
}
