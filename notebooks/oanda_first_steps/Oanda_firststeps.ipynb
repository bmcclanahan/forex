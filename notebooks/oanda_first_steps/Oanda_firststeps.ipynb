{
 "cells": [
  {
   "cell_type": "markdown",
   "metadata": {},
   "source": [
    "# First Steps with the OANDA API"
   ]
  },
  {
   "cell_type": "markdown",
   "metadata": {},
   "source": [
    "## Connecting to the API / Server"
   ]
  },
  {
   "cell_type": "code",
   "execution_count": 18,
   "metadata": {},
   "outputs": [],
   "source": [
    "import pandas as pd\n",
    "import tpqoa"
   ]
  },
  {
   "cell_type": "markdown",
   "metadata": {},
   "source": [
    "See oanda.cfg for an example of the oanda cofig. Note that the actual config file is loaded from the root of the project directory in this notebook."
   ]
  },
  {
   "cell_type": "code",
   "execution_count": 26,
   "metadata": {},
   "outputs": [],
   "source": [
    "api = tpqoa.tpqoa(\"../../oanda.cfg\")"
   ]
  },
  {
   "cell_type": "code",
   "execution_count": 27,
   "metadata": {},
   "outputs": [
    {
     "name": "stdout",
     "output_type": "stream",
     "text": [
      "Help on method get_transactions in module tpqoa.tpqoa:\n",
      "\n",
      "get_transactions(tid=0) method of tpqoa.tpqoa.tpqoa instance\n",
      "    Retrieves and returns transactions data.\n",
      "\n"
     ]
    }
   ],
   "source": [
    "help(api.get_transactions)"
   ]
  },
  {
   "cell_type": "code",
   "execution_count": 28,
   "metadata": {},
   "outputs": [
    {
     "name": "stdout",
     "output_type": "stream",
     "text": [
      "0.0 0.0\n"
     ]
    }
   ],
   "source": [
    "account_summary = api.get_account_summary(detailed=True)\n",
    "for position in account_summary[\"positions\"]:\n",
    "    if position[\"instrument\"] ==\n",
    "        long_units = float(account_summary[\"positions\"][0][\"long\"][\"units\"])\n",
    "        short_units = float(account_summary[\"positions\"][0][\"short\"][\"units\"])\n",
    "        print(long_units, short_units)"
   ]
  },
  {
   "cell_type": "code",
   "execution_count": 29,
   "metadata": {},
   "outputs": [],
   "source": [
    "account_summary = api.get_account_summary(detailed=True)"
   ]
  },
  {
   "cell_type": "code",
   "execution_count": 30,
   "metadata": {},
   "outputs": [
    {
     "data": {
      "text/plain": [
       "{'id': '101-001-27728374-001',\n",
       " 'alias': 'Primary',\n",
       " 'currency': 'USD',\n",
       " 'balance': '99864.9856',\n",
       " 'createdByUserID': 27728374,\n",
       " 'createdTime': '2023-12-14T17:34:20.968885849Z',\n",
       " 'guaranteedStopLossOrderMode': 'DISABLED',\n",
       " 'pl': '-135.0144',\n",
       " 'resettablePL': '-135.0144',\n",
       " 'resettablePLTime': '0',\n",
       " 'financing': '0.0',\n",
       " 'commission': '0.0',\n",
       " 'guaranteedExecutionFees': '0.0',\n",
       " 'marginRate': '0.02',\n",
       " 'openTradeCount': 0,\n",
       " 'openPositionCount': 0,\n",
       " 'pendingOrderCount': 0,\n",
       " 'hedgingEnabled': False,\n",
       " 'unrealizedPL': '0.0',\n",
       " 'NAV': '99864.9856',\n",
       " 'marginUsed': '0.0',\n",
       " 'marginAvailable': '99864.9856',\n",
       " 'positionValue': '0.0',\n",
       " 'marginCloseoutUnrealizedPL': '0.0',\n",
       " 'marginCloseoutNAV': '99864.9856',\n",
       " 'marginCloseoutMarginUsed': '0.0',\n",
       " 'marginCloseoutPercent': '0.0',\n",
       " 'marginCloseoutPositionValue': '0.0',\n",
       " 'withdrawalLimit': '99864.9856',\n",
       " 'marginCallMarginUsed': '0.0',\n",
       " 'marginCallPercent': '0.0',\n",
       " 'lastTransactionID': '100',\n",
       " 'trades': [],\n",
       " 'positions': [{'instrument': 'EUR_USD',\n",
       "   'pl': '-8.0',\n",
       "   'unrealizedPL': '0.0',\n",
       "   'resettablePL': '-8.0',\n",
       "   'financing': '0.0',\n",
       "   'commission': '0.0',\n",
       "   'guaranteedExecutionFees': '0.0',\n",
       "   'long': {'units': '0.0',\n",
       "    'pl': '-8.0',\n",
       "    'unrealizedPL': '0.0',\n",
       "    'resettablePL': '-8.0',\n",
       "    'financing': '0.0',\n",
       "    'guaranteedExecutionFees': '0.0'},\n",
       "   'short': {'units': '0.0',\n",
       "    'pl': '0.0',\n",
       "    'unrealizedPL': '0.0',\n",
       "    'resettablePL': '0.0',\n",
       "    'financing': '0.0',\n",
       "    'guaranteedExecutionFees': '0.0'}},\n",
       "  {'instrument': 'GBP_JPY',\n",
       "   'pl': '-127.0144',\n",
       "   'unrealizedPL': '0.0',\n",
       "   'resettablePL': '-127.0144',\n",
       "   'financing': '0.0',\n",
       "   'commission': '0.0',\n",
       "   'guaranteedExecutionFees': '0.0',\n",
       "   'long': {'units': '0.0',\n",
       "    'pl': '-13.3675',\n",
       "    'unrealizedPL': '0.0',\n",
       "    'resettablePL': '-13.3675',\n",
       "    'financing': '0.0',\n",
       "    'guaranteedExecutionFees': '0.0'},\n",
       "   'short': {'units': '0.0',\n",
       "    'pl': '-113.6469',\n",
       "    'unrealizedPL': '0.0',\n",
       "    'resettablePL': '-113.6469',\n",
       "    'financing': '0.0',\n",
       "    'guaranteedExecutionFees': '0.0'}}],\n",
       " 'orders': []}"
      ]
     },
     "execution_count": 30,
     "metadata": {},
     "output_type": "execute_result"
    }
   ],
   "source": [
    "account_summary"
   ]
  },
  {
   "cell_type": "code",
   "execution_count": 6,
   "metadata": {},
   "outputs": [
    {
     "data": {
      "text/plain": [
       "'101-011-27807194-001'"
      ]
     },
     "execution_count": 6,
     "metadata": {},
     "output_type": "execute_result"
    }
   ],
   "source": [
    "api.account_id"
   ]
  },
  {
   "cell_type": "code",
   "execution_count": 7,
   "metadata": {},
   "outputs": [
    {
     "data": {
      "text/plain": [
       "[('AUD/CAD', 'AUD_CAD'),\n",
       " ('AUD/CHF', 'AUD_CHF'),\n",
       " ('AUD/HKD', 'AUD_HKD'),\n",
       " ('AUD/JPY', 'AUD_JPY'),\n",
       " ('AUD/NZD', 'AUD_NZD'),\n",
       " ('AUD/SGD', 'AUD_SGD'),\n",
       " ('AUD/USD', 'AUD_USD'),\n",
       " ('Australia 200', 'AU200_AUD'),\n",
       " ('Bitcoin', 'BTC_USD'),\n",
       " ('Bitcoin Cash', 'BCH_USD'),\n",
       " ('Brent Crude Oil', 'BCO_USD'),\n",
       " ('Bund', 'DE10YB_EUR'),\n",
       " ('CAD/CHF', 'CAD_CHF'),\n",
       " ('CAD/HKD', 'CAD_HKD'),\n",
       " ('CAD/JPY', 'CAD_JPY'),\n",
       " ('CAD/SGD', 'CAD_SGD'),\n",
       " ('CHF/HKD', 'CHF_HKD'),\n",
       " ('CHF/JPY', 'CHF_JPY'),\n",
       " ('CHF/ZAR', 'CHF_ZAR'),\n",
       " ('China A50', 'CN50_USD'),\n",
       " ('China H Shares', 'CHINAH_HKD'),\n",
       " ('Copper', 'XCU_USD'),\n",
       " ('Corn', 'CORN_USD'),\n",
       " ('EUR/AUD', 'EUR_AUD'),\n",
       " ('EUR/CAD', 'EUR_CAD'),\n",
       " ('EUR/CHF', 'EUR_CHF'),\n",
       " ('EUR/CZK', 'EUR_CZK'),\n",
       " ('EUR/DKK', 'EUR_DKK'),\n",
       " ('EUR/GBP', 'EUR_GBP'),\n",
       " ('EUR/HKD', 'EUR_HKD'),\n",
       " ('EUR/HUF', 'EUR_HUF'),\n",
       " ('EUR/JPY', 'EUR_JPY'),\n",
       " ('EUR/NOK', 'EUR_NOK'),\n",
       " ('EUR/NZD', 'EUR_NZD'),\n",
       " ('EUR/PLN', 'EUR_PLN'),\n",
       " ('EUR/SEK', 'EUR_SEK'),\n",
       " ('EUR/SGD', 'EUR_SGD'),\n",
       " ('EUR/TRY', 'EUR_TRY'),\n",
       " ('EUR/USD', 'EUR_USD'),\n",
       " ('EUR/ZAR', 'EUR_ZAR'),\n",
       " ('Ether', 'ETH_USD'),\n",
       " ('Europe 50', 'EU50_EUR'),\n",
       " ('France 40', 'FR40_EUR'),\n",
       " ('GBP/AUD', 'GBP_AUD'),\n",
       " ('GBP/CAD', 'GBP_CAD'),\n",
       " ('GBP/CHF', 'GBP_CHF'),\n",
       " ('GBP/HKD', 'GBP_HKD'),\n",
       " ('GBP/JPY', 'GBP_JPY'),\n",
       " ('GBP/NZD', 'GBP_NZD'),\n",
       " ('GBP/PLN', 'GBP_PLN'),\n",
       " ('GBP/SGD', 'GBP_SGD'),\n",
       " ('GBP/USD', 'GBP_USD'),\n",
       " ('GBP/ZAR', 'GBP_ZAR'),\n",
       " ('Germany 30', 'DE30_EUR'),\n",
       " ('Gold', 'XAU_USD'),\n",
       " ('Gold/AUD', 'XAU_AUD'),\n",
       " ('Gold/CAD', 'XAU_CAD'),\n",
       " ('Gold/CHF', 'XAU_CHF'),\n",
       " ('Gold/EUR', 'XAU_EUR'),\n",
       " ('Gold/GBP', 'XAU_GBP'),\n",
       " ('Gold/HKD', 'XAU_HKD'),\n",
       " ('Gold/JPY', 'XAU_JPY'),\n",
       " ('Gold/NZD', 'XAU_NZD'),\n",
       " ('Gold/SGD', 'XAU_SGD'),\n",
       " ('Gold/Silver', 'XAU_XAG'),\n",
       " ('HKD/JPY', 'HKD_JPY'),\n",
       " ('Hong Kong 33', 'HK33_HKD'),\n",
       " ('Japan 225', 'JP225_USD'),\n",
       " ('Japan 225 (JPY)', 'JP225Y_JPY'),\n",
       " ('Litecoin', 'LTC_USD'),\n",
       " ('Mini Bitcoin', 'MBTC_USD'),\n",
       " ('NZD/CAD', 'NZD_CAD'),\n",
       " ('NZD/CHF', 'NZD_CHF'),\n",
       " ('NZD/HKD', 'NZD_HKD'),\n",
       " ('NZD/JPY', 'NZD_JPY'),\n",
       " ('NZD/SGD', 'NZD_SGD'),\n",
       " ('NZD/USD', 'NZD_USD'),\n",
       " ('Natural Gas', 'NATGAS_USD'),\n",
       " ('Netherlands 25', 'NL25_EUR'),\n",
       " ('Palladium', 'XPD_USD'),\n",
       " ('Platinum', 'XPT_USD'),\n",
       " ('SGD/CHF', 'SGD_CHF'),\n",
       " ('SGD/JPY', 'SGD_JPY'),\n",
       " ('Silver', 'XAG_USD'),\n",
       " ('Silver/AUD', 'XAG_AUD'),\n",
       " ('Silver/CAD', 'XAG_CAD'),\n",
       " ('Silver/CHF', 'XAG_CHF'),\n",
       " ('Silver/EUR', 'XAG_EUR'),\n",
       " ('Silver/GBP', 'XAG_GBP'),\n",
       " ('Silver/HKD', 'XAG_HKD'),\n",
       " ('Silver/JPY', 'XAG_JPY'),\n",
       " ('Silver/NZD', 'XAG_NZD'),\n",
       " ('Silver/SGD', 'XAG_SGD'),\n",
       " ('Singapore 30', 'SG30_SGD'),\n",
       " ('Soybeans', 'SOYBN_USD'),\n",
       " ('Spain 35', 'ESPIX_EUR'),\n",
       " ('Sugar', 'SUGAR_USD'),\n",
       " ('Switzerland 20', 'CH20_CHF'),\n",
       " ('TRY/JPY', 'TRY_JPY'),\n",
       " ('UK 100', 'UK100_GBP'),\n",
       " ('UK 10Y Gilt', 'UK10YB_GBP'),\n",
       " ('US 10Y T-Note', 'USB10Y_USD'),\n",
       " ('US 2Y T-Note', 'USB02Y_USD'),\n",
       " ('US 5Y T-Note', 'USB05Y_USD'),\n",
       " ('US Nas 100', 'NAS100_USD'),\n",
       " ('US Russ 2000', 'US2000_USD'),\n",
       " ('US SPX 500', 'SPX500_USD'),\n",
       " ('US T-Bond', 'USB30Y_USD'),\n",
       " ('US Wall St 30', 'US30_USD'),\n",
       " ('USD/CAD', 'USD_CAD'),\n",
       " ('USD/CHF', 'USD_CHF'),\n",
       " ('USD/CNH', 'USD_CNH'),\n",
       " ('USD/CZK', 'USD_CZK'),\n",
       " ('USD/DKK', 'USD_DKK'),\n",
       " ('USD/HKD', 'USD_HKD'),\n",
       " ('USD/HUF', 'USD_HUF'),\n",
       " ('USD/JPY', 'USD_JPY'),\n",
       " ('USD/MXN', 'USD_MXN'),\n",
       " ('USD/NOK', 'USD_NOK'),\n",
       " ('USD/PLN', 'USD_PLN'),\n",
       " ('USD/SEK', 'USD_SEK'),\n",
       " ('USD/SGD', 'USD_SGD'),\n",
       " ('USD/THB', 'USD_THB'),\n",
       " ('USD/TRY', 'USD_TRY'),\n",
       " ('USD/ZAR', 'USD_ZAR'),\n",
       " ('West Texas Oil', 'WTICO_USD'),\n",
       " ('Wheat', 'WHEAT_USD'),\n",
       " ('ZAR/JPY', 'ZAR_JPY')]"
      ]
     },
     "execution_count": 7,
     "metadata": {},
     "output_type": "execute_result"
    }
   ],
   "source": [
    "api.get_instruments()"
   ]
  },
  {
   "cell_type": "code",
   "execution_count": 8,
   "metadata": {},
   "outputs": [],
   "source": [
    "instr = api.get_instruments()"
   ]
  },
  {
   "cell_type": "code",
   "execution_count": 9,
   "metadata": {},
   "outputs": [
    {
     "data": {
      "text/plain": [
       "128"
      ]
     },
     "execution_count": 9,
     "metadata": {},
     "output_type": "execute_result"
    }
   ],
   "source": [
    "len(instr)"
   ]
  },
  {
   "cell_type": "code",
   "execution_count": 10,
   "metadata": {},
   "outputs": [
    {
     "data": {
      "text/plain": [
       "('AUD/CAD', 'AUD_CAD')"
      ]
     },
     "execution_count": 10,
     "metadata": {},
     "output_type": "execute_result"
    }
   ],
   "source": [
    "instr[0]"
   ]
  },
  {
   "cell_type": "code",
   "execution_count": null,
   "metadata": {},
   "outputs": [],
   "source": []
  },
  {
   "cell_type": "markdown",
   "metadata": {},
   "source": [
    "## Getting Historical Data (Part 1)"
   ]
  },
  {
   "cell_type": "code",
   "execution_count": 11,
   "metadata": {},
   "outputs": [],
   "source": [
    "import pandas as pd\n",
    "import tpqoa"
   ]
  },
  {
   "cell_type": "code",
   "execution_count": 13,
   "metadata": {},
   "outputs": [],
   "source": [
    "api = tpqoa.tpqoa(\"../../oanda.cfg\")"
   ]
  },
  {
   "cell_type": "code",
   "execution_count": 14,
   "metadata": {},
   "outputs": [
    {
     "name": "stdout",
     "output_type": "stream",
     "text": [
      "Help on method get_history in module tpqoa.tpqoa:\n",
      "\n",
      "get_history(instrument, start, end, granularity, price, localize=True) method of tpqoa.tpqoa.tpqoa instance\n",
      "    Retrieves historical data for instrument.\n",
      "    \n",
      "    Parameters\n",
      "    ==========\n",
      "    instrument: string\n",
      "        valid instrument name\n",
      "    start, end: datetime, str\n",
      "        Python datetime or string objects for start and end\n",
      "    granularity: string\n",
      "        a string like 'S5', 'M1' or 'D'\n",
      "    price: string\n",
      "        one of 'A' (ask), 'B' (bid) or 'M' (middle)\n",
      "    \n",
      "    Returns\n",
      "    =======\n",
      "    data: pd.DataFrame\n",
      "        pandas DataFrame object with data\n",
      "\n"
     ]
    }
   ],
   "source": [
    "help(api.get_history)"
   ]
  },
  {
   "cell_type": "code",
   "execution_count": 15,
   "metadata": {},
   "outputs": [
    {
     "data": {
      "text/html": [
       "<div>\n",
       "<style scoped>\n",
       "    .dataframe tbody tr th:only-of-type {\n",
       "        vertical-align: middle;\n",
       "    }\n",
       "\n",
       "    .dataframe tbody tr th {\n",
       "        vertical-align: top;\n",
       "    }\n",
       "\n",
       "    .dataframe thead th {\n",
       "        text-align: right;\n",
       "    }\n",
       "</style>\n",
       "<table border=\"1\" class=\"dataframe\">\n",
       "  <thead>\n",
       "    <tr style=\"text-align: right;\">\n",
       "      <th></th>\n",
       "      <th>o</th>\n",
       "      <th>h</th>\n",
       "      <th>l</th>\n",
       "      <th>c</th>\n",
       "      <th>volume</th>\n",
       "      <th>complete</th>\n",
       "    </tr>\n",
       "    <tr>\n",
       "      <th>time</th>\n",
       "      <th></th>\n",
       "      <th></th>\n",
       "      <th></th>\n",
       "      <th></th>\n",
       "      <th></th>\n",
       "      <th></th>\n",
       "    </tr>\n",
       "  </thead>\n",
       "  <tbody>\n",
       "    <tr>\n",
       "      <th>2020-06-30 21:00:00</th>\n",
       "      <td>1.12293</td>\n",
       "      <td>1.12744</td>\n",
       "      <td>1.11837</td>\n",
       "      <td>1.12501</td>\n",
       "      <td>90252</td>\n",
       "      <td>True</td>\n",
       "    </tr>\n",
       "    <tr>\n",
       "      <th>2020-07-01 21:00:00</th>\n",
       "      <td>1.12501</td>\n",
       "      <td>1.13020</td>\n",
       "      <td>1.12188</td>\n",
       "      <td>1.12384</td>\n",
       "      <td>90789</td>\n",
       "      <td>True</td>\n",
       "    </tr>\n",
       "    <tr>\n",
       "      <th>2020-07-02 21:00:00</th>\n",
       "      <td>1.12384</td>\n",
       "      <td>1.12492</td>\n",
       "      <td>1.12186</td>\n",
       "      <td>1.12429</td>\n",
       "      <td>59036</td>\n",
       "      <td>True</td>\n",
       "    </tr>\n",
       "    <tr>\n",
       "      <th>2020-07-05 21:00:00</th>\n",
       "      <td>1.12423</td>\n",
       "      <td>1.13449</td>\n",
       "      <td>1.12391</td>\n",
       "      <td>1.13076</td>\n",
       "      <td>81756</td>\n",
       "      <td>True</td>\n",
       "    </tr>\n",
       "    <tr>\n",
       "      <th>2020-07-06 21:00:00</th>\n",
       "      <td>1.13070</td>\n",
       "      <td>1.13318</td>\n",
       "      <td>1.12581</td>\n",
       "      <td>1.12726</td>\n",
       "      <td>92426</td>\n",
       "      <td>True</td>\n",
       "    </tr>\n",
       "    <tr>\n",
       "      <th>2020-07-07 21:00:00</th>\n",
       "      <td>1.12717</td>\n",
       "      <td>1.13505</td>\n",
       "      <td>1.12615</td>\n",
       "      <td>1.13287</td>\n",
       "      <td>89549</td>\n",
       "      <td>True</td>\n",
       "    </tr>\n",
       "    <tr>\n",
       "      <th>2020-07-08 21:00:00</th>\n",
       "      <td>1.13287</td>\n",
       "      <td>1.13699</td>\n",
       "      <td>1.12774</td>\n",
       "      <td>1.12837</td>\n",
       "      <td>104729</td>\n",
       "      <td>True</td>\n",
       "    </tr>\n",
       "    <tr>\n",
       "      <th>2020-07-09 21:00:00</th>\n",
       "      <td>1.12808</td>\n",
       "      <td>1.13242</td>\n",
       "      <td>1.12540</td>\n",
       "      <td>1.12977</td>\n",
       "      <td>81510</td>\n",
       "      <td>True</td>\n",
       "    </tr>\n",
       "    <tr>\n",
       "      <th>2020-07-12 21:00:00</th>\n",
       "      <td>1.13042</td>\n",
       "      <td>1.13744</td>\n",
       "      <td>1.13002</td>\n",
       "      <td>1.13420</td>\n",
       "      <td>86512</td>\n",
       "      <td>True</td>\n",
       "    </tr>\n",
       "    <tr>\n",
       "      <th>2020-07-13 21:00:00</th>\n",
       "      <td>1.13420</td>\n",
       "      <td>1.14081</td>\n",
       "      <td>1.13232</td>\n",
       "      <td>1.13985</td>\n",
       "      <td>106478</td>\n",
       "      <td>True</td>\n",
       "    </tr>\n",
       "    <tr>\n",
       "      <th>2020-07-14 21:00:00</th>\n",
       "      <td>1.13979</td>\n",
       "      <td>1.14512</td>\n",
       "      <td>1.13901</td>\n",
       "      <td>1.14108</td>\n",
       "      <td>100308</td>\n",
       "      <td>True</td>\n",
       "    </tr>\n",
       "    <tr>\n",
       "      <th>2020-07-15 21:00:00</th>\n",
       "      <td>1.14108</td>\n",
       "      <td>1.14411</td>\n",
       "      <td>1.13698</td>\n",
       "      <td>1.13827</td>\n",
       "      <td>102144</td>\n",
       "      <td>True</td>\n",
       "    </tr>\n",
       "    <tr>\n",
       "      <th>2020-07-16 21:00:00</th>\n",
       "      <td>1.13827</td>\n",
       "      <td>1.14432</td>\n",
       "      <td>1.13737</td>\n",
       "      <td>1.14252</td>\n",
       "      <td>73024</td>\n",
       "      <td>True</td>\n",
       "    </tr>\n",
       "    <tr>\n",
       "      <th>2020-07-19 21:00:00</th>\n",
       "      <td>1.14088</td>\n",
       "      <td>1.14672</td>\n",
       "      <td>1.14017</td>\n",
       "      <td>1.14461</td>\n",
       "      <td>104209</td>\n",
       "      <td>True</td>\n",
       "    </tr>\n",
       "    <tr>\n",
       "      <th>2020-07-20 21:00:00</th>\n",
       "      <td>1.14461</td>\n",
       "      <td>1.15391</td>\n",
       "      <td>1.14223</td>\n",
       "      <td>1.15257</td>\n",
       "      <td>111043</td>\n",
       "      <td>True</td>\n",
       "    </tr>\n",
       "    <tr>\n",
       "      <th>2020-07-21 21:00:00</th>\n",
       "      <td>1.15257</td>\n",
       "      <td>1.16009</td>\n",
       "      <td>1.15059</td>\n",
       "      <td>1.15687</td>\n",
       "      <td>129890</td>\n",
       "      <td>True</td>\n",
       "    </tr>\n",
       "    <tr>\n",
       "      <th>2020-07-22 21:00:00</th>\n",
       "      <td>1.15634</td>\n",
       "      <td>1.16260</td>\n",
       "      <td>1.15397</td>\n",
       "      <td>1.15952</td>\n",
       "      <td>115345</td>\n",
       "      <td>True</td>\n",
       "    </tr>\n",
       "    <tr>\n",
       "      <th>2020-07-23 21:00:00</th>\n",
       "      <td>1.15920</td>\n",
       "      <td>1.16571</td>\n",
       "      <td>1.15806</td>\n",
       "      <td>1.16540</td>\n",
       "      <td>115447</td>\n",
       "      <td>True</td>\n",
       "    </tr>\n",
       "    <tr>\n",
       "      <th>2020-07-26 21:00:00</th>\n",
       "      <td>1.16420</td>\n",
       "      <td>1.17809</td>\n",
       "      <td>1.16387</td>\n",
       "      <td>1.17502</td>\n",
       "      <td>123653</td>\n",
       "      <td>True</td>\n",
       "    </tr>\n",
       "    <tr>\n",
       "      <th>2020-07-27 21:00:00</th>\n",
       "      <td>1.17502</td>\n",
       "      <td>1.17729</td>\n",
       "      <td>1.16980</td>\n",
       "      <td>1.17138</td>\n",
       "      <td>126006</td>\n",
       "      <td>True</td>\n",
       "    </tr>\n",
       "    <tr>\n",
       "      <th>2020-07-28 21:00:00</th>\n",
       "      <td>1.17145</td>\n",
       "      <td>1.18054</td>\n",
       "      <td>1.17114</td>\n",
       "      <td>1.17904</td>\n",
       "      <td>121087</td>\n",
       "      <td>True</td>\n",
       "    </tr>\n",
       "    <tr>\n",
       "      <th>2020-07-29 21:00:00</th>\n",
       "      <td>1.17904</td>\n",
       "      <td>1.18475</td>\n",
       "      <td>1.17304</td>\n",
       "      <td>1.18465</td>\n",
       "      <td>128163</td>\n",
       "      <td>True</td>\n",
       "    </tr>\n",
       "    <tr>\n",
       "      <th>2020-07-30 21:00:00</th>\n",
       "      <td>1.18465</td>\n",
       "      <td>1.19081</td>\n",
       "      <td>1.17602</td>\n",
       "      <td>1.17751</td>\n",
       "      <td>154943</td>\n",
       "      <td>True</td>\n",
       "    </tr>\n",
       "  </tbody>\n",
       "</table>\n",
       "</div>"
      ],
      "text/plain": [
       "                           o        h        l        c  volume  complete\n",
       "time                                                                     \n",
       "2020-06-30 21:00:00  1.12293  1.12744  1.11837  1.12501   90252      True\n",
       "2020-07-01 21:00:00  1.12501  1.13020  1.12188  1.12384   90789      True\n",
       "2020-07-02 21:00:00  1.12384  1.12492  1.12186  1.12429   59036      True\n",
       "2020-07-05 21:00:00  1.12423  1.13449  1.12391  1.13076   81756      True\n",
       "2020-07-06 21:00:00  1.13070  1.13318  1.12581  1.12726   92426      True\n",
       "2020-07-07 21:00:00  1.12717  1.13505  1.12615  1.13287   89549      True\n",
       "2020-07-08 21:00:00  1.13287  1.13699  1.12774  1.12837  104729      True\n",
       "2020-07-09 21:00:00  1.12808  1.13242  1.12540  1.12977   81510      True\n",
       "2020-07-12 21:00:00  1.13042  1.13744  1.13002  1.13420   86512      True\n",
       "2020-07-13 21:00:00  1.13420  1.14081  1.13232  1.13985  106478      True\n",
       "2020-07-14 21:00:00  1.13979  1.14512  1.13901  1.14108  100308      True\n",
       "2020-07-15 21:00:00  1.14108  1.14411  1.13698  1.13827  102144      True\n",
       "2020-07-16 21:00:00  1.13827  1.14432  1.13737  1.14252   73024      True\n",
       "2020-07-19 21:00:00  1.14088  1.14672  1.14017  1.14461  104209      True\n",
       "2020-07-20 21:00:00  1.14461  1.15391  1.14223  1.15257  111043      True\n",
       "2020-07-21 21:00:00  1.15257  1.16009  1.15059  1.15687  129890      True\n",
       "2020-07-22 21:00:00  1.15634  1.16260  1.15397  1.15952  115345      True\n",
       "2020-07-23 21:00:00  1.15920  1.16571  1.15806  1.16540  115447      True\n",
       "2020-07-26 21:00:00  1.16420  1.17809  1.16387  1.17502  123653      True\n",
       "2020-07-27 21:00:00  1.17502  1.17729  1.16980  1.17138  126006      True\n",
       "2020-07-28 21:00:00  1.17145  1.18054  1.17114  1.17904  121087      True\n",
       "2020-07-29 21:00:00  1.17904  1.18475  1.17304  1.18465  128163      True\n",
       "2020-07-30 21:00:00  1.18465  1.19081  1.17602  1.17751  154943      True"
      ]
     },
     "execution_count": 15,
     "metadata": {},
     "output_type": "execute_result"
    }
   ],
   "source": [
    "api.get_history(instrument = \"EUR_USD\", start = \"2020-07-01\", end = \"2020-07-31\",\n",
    "                granularity = \"D\", price = \"B\")"
   ]
  },
  {
   "cell_type": "code",
   "execution_count": null,
   "metadata": {},
   "outputs": [],
   "source": [
    "df = api.get_history(instrument = \"EUR_USD\", start = \"2020-07-01\", end = \"2020-07-31\",\n",
    "                granularity = \"D\", price = \"B\")"
   ]
  },
  {
   "cell_type": "code",
   "execution_count": null,
   "metadata": {},
   "outputs": [],
   "source": [
    "df.info()"
   ]
  },
  {
   "cell_type": "code",
   "execution_count": null,
   "metadata": {},
   "outputs": [],
   "source": [
    "api.get_history(instrument = \"EUR_USD\", start = \"2020-07-01\", end = \"2020-07-01\",\n",
    "                granularity = \"D\", price = \"A\")"
   ]
  },
  {
   "cell_type": "code",
   "execution_count": null,
   "metadata": {},
   "outputs": [],
   "source": [
    "api.get_history(instrument = \"EUR_USD\", start = \"2020-07-01\", end = \"2020-07-01\",\n",
    "                granularity = \"D\", price = \"B\")"
   ]
  },
  {
   "cell_type": "code",
   "execution_count": null,
   "metadata": {},
   "outputs": [],
   "source": []
  },
  {
   "cell_type": "markdown",
   "metadata": {},
   "source": [
    "## Getting Historical Data (Part 2)"
   ]
  },
  {
   "cell_type": "code",
   "execution_count": null,
   "metadata": {},
   "outputs": [],
   "source": [
    "api.get_history(\"EUR_USD\", \"2020-08-03\", \"2020-08-05\", \"H1\", \"A\")"
   ]
  },
  {
   "cell_type": "code",
   "execution_count": null,
   "metadata": {
    "scrolled": true
   },
   "outputs": [],
   "source": [
    "api.get_history(\"EUR_USD\", \"2020-08-03\", \"2020-08-05\", \"H12\", \"A\")"
   ]
  },
  {
   "cell_type": "code",
   "execution_count": null,
   "metadata": {},
   "outputs": [],
   "source": [
    "api.get_history(\"EUR_USD\", \"2020-08-03\", \"2020-08-05\", \"M1\", \"A\")"
   ]
  },
  {
   "cell_type": "code",
   "execution_count": null,
   "metadata": {},
   "outputs": [],
   "source": [
    "api.get_history(\"EUR_USD\", \"2020-08-03\", \"2020-08-04\", \"S5\", \"A\")"
   ]
  },
  {
   "cell_type": "code",
   "execution_count": null,
   "metadata": {},
   "outputs": [],
   "source": [
    "api.get_instruments()"
   ]
  },
  {
   "cell_type": "code",
   "execution_count": null,
   "metadata": {},
   "outputs": [],
   "source": [
    "api.get_history(\"SPX500_USD\", \"2020-08-03\", \"2020-08-04\", \"H1\", \"A\")"
   ]
  },
  {
   "cell_type": "code",
   "execution_count": null,
   "metadata": {},
   "outputs": [],
   "source": []
  },
  {
   "cell_type": "markdown",
   "metadata": {},
   "source": [
    "## Streaming high-frequency real-time Data"
   ]
  },
  {
   "cell_type": "code",
   "execution_count": null,
   "metadata": {},
   "outputs": [],
   "source": [
    "import pandas as pd\n",
    "import tpqoa"
   ]
  },
  {
   "cell_type": "code",
   "execution_count": null,
   "metadata": {},
   "outputs": [],
   "source": [
    "api = tpqoa.tpqoa(\"oanda.cfg\")"
   ]
  },
  {
   "cell_type": "code",
   "execution_count": null,
   "metadata": {
    "scrolled": true
   },
   "outputs": [],
   "source": [
    "api.stream_data('EUR_USD', stop = 10) "
   ]
  },
  {
   "cell_type": "code",
   "execution_count": null,
   "metadata": {},
   "outputs": [],
   "source": [
    "#api.stop_stream()"
   ]
  },
  {
   "cell_type": "code",
   "execution_count": null,
   "metadata": {},
   "outputs": [],
   "source": []
  },
  {
   "cell_type": "markdown",
   "metadata": {},
   "source": [
    "## Creating Orders and Executing Trades"
   ]
  },
  {
   "cell_type": "code",
   "execution_count": null,
   "metadata": {},
   "outputs": [],
   "source": [
    "import pandas as pd\n",
    "import tpqoa"
   ]
  },
  {
   "cell_type": "code",
   "execution_count": 4,
   "metadata": {},
   "outputs": [],
   "source": [
    "api = tpqoa.tpqoa(\"../../oanda.cfg\")"
   ]
  },
  {
   "cell_type": "code",
   "execution_count": 5,
   "metadata": {},
   "outputs": [
    {
     "name": "stdout",
     "output_type": "stream",
     "text": [
      "\n",
      "\n",
      " {'id': '88', 'time': '2024-01-03T23:49:04.061625595Z', 'userID': 27728374, 'accountID': '101-001-27728374-001', 'batchID': '87', 'requestID': '79206054322999228', 'type': 'ORDER_FILL', 'orderID': '87', 'instrument': 'EUR_USD', 'units': '100000.0', 'gainQuoteHomeConversionFactor': '1.0', 'lossQuoteHomeConversionFactor': '1.0', 'price': 1.09257, 'fullVWAP': 1.09257, 'fullPrice': {'type': 'PRICE', 'bids': [{'price': 1.09243, 'liquidity': '10000000'}], 'asks': [{'price': 1.09257, 'liquidity': '10000000'}], 'closeoutBid': 1.09243, 'closeoutAsk': 1.09257}, 'reason': 'MARKET_ORDER', 'pl': '0.0', 'financing': '0.0', 'commission': '0.0', 'guaranteedExecutionFee': '0.0', 'accountBalance': '99868.5316', 'tradeOpened': {'tradeID': '88', 'units': '100000.0', 'price': 1.09257, 'guaranteedExecutionFee': '0.0', 'halfSpreadCost': '7.0', 'initialMarginRequired': '2185.0'}, 'halfSpreadCost': '7.0'} \n",
      "\n"
     ]
    }
   ],
   "source": [
    "api.create_order(instrument = \"EUR_USD\", units = 100000, sl_distance= 0.1)"
   ]
  },
  {
   "cell_type": "code",
   "execution_count": null,
   "metadata": {},
   "outputs": [],
   "source": [
    "api.create_order(instrument = \"EUR_USD\", units = -100000, sl_distance= 0.1)"
   ]
  },
  {
   "cell_type": "code",
   "execution_count": 10,
   "metadata": {
    "scrolled": true
   },
   "outputs": [
    {
     "data": {
      "text/plain": [
       "{'id': '101-001-27728374-001',\n",
       " 'alias': 'Primary',\n",
       " 'currency': 'USD',\n",
       " 'balance': '99860.5316',\n",
       " 'createdByUserID': 27728374,\n",
       " 'createdTime': '2023-12-14T17:34:20.968885849Z',\n",
       " 'guaranteedStopLossOrderMode': 'DISABLED',\n",
       " 'pl': '-139.4684',\n",
       " 'resettablePL': '-139.4684',\n",
       " 'resettablePLTime': '0',\n",
       " 'financing': '0.0',\n",
       " 'commission': '0.0',\n",
       " 'guaranteedExecutionFees': '0.0',\n",
       " 'marginRate': '0.02',\n",
       " 'openTradeCount': 1,\n",
       " 'openPositionCount': 1,\n",
       " 'pendingOrderCount': 2,\n",
       " 'hedgingEnabled': False,\n",
       " 'unrealizedPL': '-0.1405',\n",
       " 'NAV': '99860.3911',\n",
       " 'marginUsed': '633.595',\n",
       " 'marginAvailable': '99226.7968',\n",
       " 'positionValue': '12671.9',\n",
       " 'marginCloseoutUnrealizedPL': '1.3984',\n",
       " 'marginCloseoutNAV': '99861.93',\n",
       " 'marginCloseoutMarginUsed': '633.595',\n",
       " 'marginCloseoutPercent': '0.00317',\n",
       " 'marginCloseoutPositionValue': '12671.9',\n",
       " 'withdrawalLimit': '99226.7968',\n",
       " 'marginCallMarginUsed': '633.595',\n",
       " 'marginCallPercent': '0.00634',\n",
       " 'lastTransactionID': '96'}"
      ]
     },
     "execution_count": 10,
     "metadata": {},
     "output_type": "execute_result"
    }
   ],
   "source": [
    "summary = api.get_account_summary()\n",
    "summary"
   ]
  },
  {
   "cell_type": "code",
   "execution_count": null,
   "metadata": {},
   "outputs": [],
   "source": [
    "api.get_transactions(tid = 24)"
   ]
  },
  {
   "cell_type": "code",
   "execution_count": null,
   "metadata": {},
   "outputs": [],
   "source": [
    "api.print_transactions(tid = 26-1)"
   ]
  },
  {
   "cell_type": "code",
   "execution_count": null,
   "metadata": {},
   "outputs": [],
   "source": []
  }
 ],
 "metadata": {
  "kernelspec": {
   "display_name": "Python 3 (ipykernel)",
   "language": "python",
   "name": "python3"
  },
  "language_info": {
   "codemirror_mode": {
    "name": "ipython",
    "version": 3
   },
   "file_extension": ".py",
   "mimetype": "text/x-python",
   "name": "python",
   "nbconvert_exporter": "python",
   "pygments_lexer": "ipython3",
   "version": "3.9.18"
  },
  "vscode": {
   "interpreter": {
    "hash": "e5dbdafd4a6768148cc62758566b821deae66d13c206873b2353df8f37c0686b"
   }
  }
 },
 "nbformat": 4,
 "nbformat_minor": 4
}
